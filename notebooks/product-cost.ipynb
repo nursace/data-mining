{
 "cells": [
  {
   "cell_type": "code",
   "execution_count": 128,
   "metadata": {},
   "outputs": [
    {
     "name": "stdout",
     "output_type": "stream",
     "text": [
      "(20064, 5)\n",
      "Index(['product', 'measure', 'year', 'month', 'cost'], dtype='object')\n"
     ]
    },
    {
     "data": {
      "text/html": [
       "<div>\n",
       "<style scoped>\n",
       "    .dataframe tbody tr th:only-of-type {\n",
       "        vertical-align: middle;\n",
       "    }\n",
       "\n",
       "    .dataframe tbody tr th {\n",
       "        vertical-align: top;\n",
       "    }\n",
       "\n",
       "    .dataframe thead th {\n",
       "        text-align: right;\n",
       "    }\n",
       "</style>\n",
       "<table border=\"1\" class=\"dataframe\">\n",
       "  <thead>\n",
       "    <tr style=\"text-align: right;\">\n",
       "      <th></th>\n",
       "      <th>product</th>\n",
       "      <th>measure</th>\n",
       "      <th>year</th>\n",
       "      <th>month</th>\n",
       "      <th>cost</th>\n",
       "    </tr>\n",
       "  </thead>\n",
       "  <tbody>\n",
       "    <tr>\n",
       "      <th>0</th>\n",
       "      <td>Рис среднезерный</td>\n",
       "      <td>1 кг</td>\n",
       "      <td>2003</td>\n",
       "      <td>январь</td>\n",
       "      <td>23.76</td>\n",
       "    </tr>\n",
       "    <tr>\n",
       "      <th>1</th>\n",
       "      <td>Рис длиннозерный</td>\n",
       "      <td>1 кг</td>\n",
       "      <td>2003</td>\n",
       "      <td>январь</td>\n",
       "      <td>24.89</td>\n",
       "    </tr>\n",
       "    <tr>\n",
       "      <th>2</th>\n",
       "      <td>Мука пшеничная высшего сорта</td>\n",
       "      <td>1 кг</td>\n",
       "      <td>2003</td>\n",
       "      <td>январь</td>\n",
       "      <td>12.90</td>\n",
       "    </tr>\n",
       "    <tr>\n",
       "      <th>3</th>\n",
       "      <td>Мука пшеничная первого сорта</td>\n",
       "      <td>1 кг</td>\n",
       "      <td>2003</td>\n",
       "      <td>январь</td>\n",
       "      <td>10.08</td>\n",
       "    </tr>\n",
       "    <tr>\n",
       "      <th>4</th>\n",
       "      <td>Крупа манная</td>\n",
       "      <td>1 кг</td>\n",
       "      <td>2003</td>\n",
       "      <td>январь</td>\n",
       "      <td>20.37</td>\n",
       "    </tr>\n",
       "  </tbody>\n",
       "</table>\n",
       "</div>"
      ],
      "text/plain": [
       "                        product measure  year   month   cost\n",
       "0              Рис среднезерный    1 кг  2003  январь  23.76\n",
       "1              Рис длиннозерный    1 кг  2003  январь  24.89\n",
       "2  Мука пшеничная высшего сорта    1 кг  2003  январь  12.90\n",
       "3  Мука пшеничная первого сорта    1 кг  2003  январь  10.08\n",
       "4                  Крупа манная    1 кг  2003  январь  20.37"
      ]
     },
     "execution_count": 128,
     "metadata": {},
     "output_type": "execute_result"
    }
   ],
   "source": [
    "import pandas as pd\n",
    "\n",
    "# Загружаем данные\n",
    "data = pd.read_csv('../data/products-kg/output.csv')\n",
    "\n",
    "data = data.iloc[:, 1:]\n",
    "\n",
    "years = []\n",
    "start_year = 2003\n",
    "rows_per_year = 912\n",
    "for year in range(start_year, 2025):\n",
    "    years.extend([year] * rows_per_year)\n",
    "\n",
    "# Ensure the length of the 'years' list matches the number of rows in the DataFrame\n",
    "years = years[:len(data)]\n",
    "\n",
    "# Add the year column to the DataFrame\n",
    "data['year'] = years\n",
    "\n",
    "data = data[['product', 'measure', 'year', 'month', 'cost']]\n",
    "\n",
    "\n",
    "print(data.shape)\n",
    "\n",
    "print(data.columns)\n",
    "\n",
    "data.to_csv('../data/products-kg/goods-data-kg.csv')\n",
    "\n"
   ]
  },
  {
   "cell_type": "code",
   "execution_count": 109,
   "metadata": {},
   "outputs": [],
   "source": [
    "# df_long = pd.melt (\n",
    "#     data,\n",
    "#     id_vars = ['product', 'measure'],\n",
    "#     value_vars = ['январь', 'февраль', 'март', 'апрель', 'май', 'июнь', 'июль', 'август','сентябрь', 'октябрь', 'ноябрь', 'декабрь'],\n",
    "#     var_name = 'month',\n",
    "#     value_name = 'cost'\n",
    "# )\n",
    "\n",
    "# df_long.to_csv('../data/products-kg/output.csv', mode='a', index=True, header=False, encoding='utf-8')\n",
    "\n",
    "# df_long.to_csv('../data/products-kg/output.csv')\n",
    "\n"
   ]
  },
  {
   "cell_type": "code",
   "execution_count": 110,
   "metadata": {},
   "outputs": [
    {
     "name": "stdout",
     "output_type": "stream",
     "text": [
      "(20976, 5)\n"
     ]
    }
   ],
   "source": [
    "\n",
    "k = pd.read_csv('../data/products-kg/output.csv')\n",
    "print(k.shape)"
   ]
  },
  {
   "cell_type": "code",
   "execution_count": null,
   "metadata": {},
   "outputs": [],
   "source": []
  }
 ],
 "metadata": {
  "anaconda-cloud": {},
  "kernelspec": {
   "display_name": "Python 3",
   "language": "python",
   "name": "python3"
  },
  "language_info": {
   "codemirror_mode": {
    "name": "ipython",
    "version": 3
   },
   "file_extension": ".py",
   "mimetype": "text/x-python",
   "name": "python",
   "nbconvert_exporter": "python",
   "pygments_lexer": "ipython3",
   "version": "3.11.5"
  },
  "varInspector": {
   "cols": {
    "lenName": 16,
    "lenType": 16,
    "lenVar": 40
   },
   "kernels_config": {
    "python": {
     "delete_cmd_postfix": "",
     "delete_cmd_prefix": "del ",
     "library": "var_list.py",
     "varRefreshCmd": "print(var_dic_list())"
    },
    "r": {
     "delete_cmd_postfix": ") ",
     "delete_cmd_prefix": "rm(",
     "library": "var_list.r",
     "varRefreshCmd": "cat(var_dic_list()) "
    }
   },
   "types_to_exclude": [
    "module",
    "function",
    "builtin_function_or_method",
    "instance",
    "_Feature"
   ],
   "window_display": false
  }
 },
 "nbformat": 4,
 "nbformat_minor": 1
}
