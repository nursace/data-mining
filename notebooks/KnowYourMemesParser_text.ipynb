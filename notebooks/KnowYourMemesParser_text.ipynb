{
  "cells": [
    {
      "cell_type": "markdown",
      "metadata": {
        "id": "X0NNjCnmDmjc"
      },
      "source": [
        "<img src=\"../logo.png\" height=\"200\" width=\"900\">\n",
        "\n",
        "# <center> Сбор данных: грязная работа своими руками </center>"
      ]
    },
    {
      "cell_type": "markdown",
      "metadata": {
        "id": "YHFIowAADmjh"
      },
      "source": [
        "# 1. Как выглядит хранилище мемов\n",
        "\n",
        "## 1.1. Что мы хотим получить\n",
        "\n",
        "\n",
        "Итак, мы хотим  написать код, который поможет нам скачать полезные данные с сайта [knowyourmeme.com:](http://knowyourmeme.com)\n",
        "\n",
        "- **Name** – название мема,\n",
        "- **Origin_year** – год его создания,\n",
        "- **Views** – число просмотров,\n",
        "- **About** – текстовое описание мема,\n",
        "- ** и многие другие**\n",
        "\n",
        "После скачивания и чистки данных, можно будет заняться оцениванием моделей. Например, можно попробовать предсказать популярность мема по его параметрам. Но это все позже, а сейчас познакомимся с парой определений:\n",
        "\n",
        "* **Парсер** — это скрипт, который собирает информацию с сайта\n",
        "* **Краулер** — это часть парсера, которая переходит по ссылкам\n",
        "* **Краулинг** — это переход по страницам и ссылкам\n",
        "* **Скрапинг** — это сбор данных со страниц\n",
        "* **Парсинг** — это сразу и краулинг и скрапинг"
      ]
    },
    {
      "cell_type": "markdown",
      "metadata": {
        "id": "ZYrQNgKcDmji"
      },
      "source": [
        "## 1.2.  Что такое HTML\n",
        "\n",
        "**HTML (HyperText Markup Language)**  — это язык разметки. Он является стандартным для написания сайтов. Команды в таком языке называются **тегами**. Если открыть абсолютно любой сайт, нажать на правую кнопку мышки, а после нажать `View page source`, то перед вами предстанет HTML скелет этого сайта.\n",
        "\n",
        "Можно увидеть, что HTML-страница это ни что иное, как набор вложенных тегов. Можно заметить, например, следующие теги:\n",
        "\n",
        "- `<title>` – заголовок страницы\n",
        "- `<h1>…<h6>` – заголовки разных уровней\n",
        "- `<p>` – абзац (paragraph)\n",
        "- `<div>` – выделения фрагмента документа с целью изменения вида содержимого\n",
        "- `<table>` – прорисовка таблицы\n",
        "- `<tr>` – разделитель для строк в таблице\n",
        "- `<td>` – разделитель для столбцов в таблице\n",
        "- `<b>` – устанавливает жирное начертание шрифта\n",
        "\n",
        "Обычно команда `<...>` открывает тег, а  `</...>` закрывает его. Все, что находится между этими двумя командами, подчиняется правилу, которое диктует тег. Например, все, что находится между `<p>` и  `</p>` — это отдельный абзац.   \n",
        "\n",
        "Теги образуют своеобразное дерево с корнем в теге `<html>` и разбивают страницу на разные логические кусочки. У каждого тега могут быть свои потомки (дети) — те теги, которые вложены в него, и свои родители.\n",
        "\n",
        "Например, HTML-древо страницы может выглядеть вот так:\n",
        "\n",
        "    <html>\n",
        "    <head> Заголовок </head>\n",
        "    <body>\n",
        "        <div>\n",
        "            Первый кусок текста со своими свойствами\n",
        "        </div>\n",
        "        <div>\n",
        "            Второй кусок текста\n",
        "                <b>\n",
        "                    Третий кусок с выделенным текстом\n",
        "                </b>\n",
        "        </div>\n",
        "        Четвёртый кусок текста        \n",
        "    </body>\n",
        "    </html>            \n",
        "    \n",
        "    \n",
        "<img align=\"center\" src=\"pictures/tree.png\" >\n",
        "\n",
        "Можно работать с этим html как с текстом, а можно как с деревом. Обход этого дерева и есть парсинг веб-страницы. Нам нужно находить нужные нам узлы среди всего этого разнообразия и забирать с них информацию.\n",
        "\n",
        "Вручную обходить эти деревья неудобно, поэтому есть специальные языки для обхода деревьев.\n",
        "\n",
        "- [CSS-селектор](https://ru.wikibooks.org/wiki/CSS/%D0%A1%D0%B5%D0%BB%D0%B5%D0%BA%D1%82%D0%BE%D1%80%D1%8B) (это когда мы ищем элемент страницы по паре ключ, значение)\n",
        "- [XPath](https://ru.wikipedia.org/wiki/XPath) (это когда мы прописываем путь по дереву вот так: /html/body/div[1]/div[3]/div/div[2]/div)\n",
        "- Различные библиотеки, например, BeautifulSoup для питона. Именно эту библиотеку мы и будем использовать."
      ]
    },
    {
      "cell_type": "markdown",
      "metadata": {
        "id": "OSYG36dbDmjj"
      },
      "source": [
        "## 1.3. Наш первый запрос\n",
        "\n",
        "Доступ к веб-станицам позволяет получать модуль `requests`. Подгрузим его и ещё пару пакетов."
      ]
    },
    {
      "cell_type": "code",
      "execution_count": 119,
      "metadata": {
        "ExecuteTime": {
          "end_time": "2024-04-16T05:57:31.486594Z",
          "start_time": "2024-04-16T05:57:31.124839Z"
        },
        "id": "DxSNBAI6Dmjj"
      },
      "outputs": [],
      "source": [
        "import requests      # Библиотека для отправки запросов\n",
        "import numpy as np   # Библиотека для матриц, векторов и линала\n",
        "import pandas as pd  # Библиотека для табличек\n",
        "import time          # Библиотека для времени"
      ]
    },
    {
      "cell_type": "markdown",
      "metadata": {
        "id": "6Q-MFdTgDmjk"
      },
      "source": [
        "Для наших благородных исследовательских целей нужно собрать данные по каждому мему с соответствующей ему страницы. Но для начала нужно получить адреса этих страниц. Поэтому открываем основную страницу со всеми выложенными мемами. Выглядит она следующим образом:\n",
        "\n",
        "<img align=\"center\" src=\"pictures/memes_main.png\">\n",
        "\n",
        "Отсюда мы и будем собирать ссылки. Сохраним в переменную `page_link` адрес основной страницы и откроем её при помощи библиотеки `requests`."
      ]
    },
    {
      "cell_type": "code",
      "execution_count": 26,
      "metadata": {
        "ExecuteTime": {
          "end_time": "2024-04-16T05:57:36.382988Z",
          "start_time": "2024-04-16T05:57:36.371764Z"
        },
        "id": "WxJvSkEEDmjk"
      },
      "outputs": [],
      "source": [
        "page_link = 'https://knowyourmeme.com/memes/all/page/2'"
      ]
    },
    {
      "cell_type": "code",
      "execution_count": 27,
      "metadata": {
        "ExecuteTime": {
          "end_time": "2024-04-16T05:57:46.723594Z",
          "start_time": "2024-04-16T05:57:45.613254Z"
        },
        "colab": {
          "base_uri": "https://localhost:8080/"
        },
        "id": "f1EIjSNqDmjk",
        "outputId": "0ceeede1-8bb2-43ce-ee18-c469e87611e2"
      },
      "outputs": [
        {
          "output_type": "execute_result",
          "data": {
            "text/plain": [
              "b\"<!DOCTYPE html>\\n<html xmlns:fb='https://www.facebook.com/2008/fbml' xmlns='https://www.w3.org/1999/xhtml'>\\n<head>\\n<meta content='width=1060' name='viewport'>\\n<meta content='text/html; charset=utf-8' http-equiv='Content-Type'>\\n\\n<meta property='og:title' content='All Entries - Page 2' />\\n<meta property='og:site_name' content='Know Your Meme' />\\n<meta property='og:image' content='https://a.kym-cdn.com/assets/kym-logo-large-2be3f3818691470a0369e154647ca0f0.png' />\\n<meta property='og:type' content='a\""
            ]
          },
          "metadata": {},
          "execution_count": 27
        }
      ],
      "source": [
        "response = requests.get(page_link)\n",
        "response.content[:500]"
      ]
    },
    {
      "cell_type": "markdown",
      "metadata": {
        "id": "HCCOjoNjDmjl"
      },
      "source": [
        "Похоже, мы недвусмысленно дали понять серверу, что мы используем python, а именно библиотеку requests версии 2.14.2. Скорее всего, это вызвало у сервера некоторые подозрения относительно наших благих намерений и он решил нас безжалостно отвергнуть. Для сравнения, можно посмотреть, как выглядят request-headers у запроса через браузер:\n",
        "\n",
        "<img align=\"center\" src=\"pictures/good_headers.png\">"
      ]
    },
    {
      "cell_type": "markdown",
      "metadata": {
        "id": "f2QwxqE4Dmjl"
      },
      "source": [
        "Очевидно, что нашему скромному запросу не тягаться с таким обилием мета-информации, которое передается при запросе из обычного браузера. К счастью, никто нам не мешает притвориться человечными.\n",
        "\n",
        "Библиотек, которые справляются с такой задачей, существует очень много, мы воспользуемся [`fake-useragent`](https://pypi.python.org/pypi/fake-useragent). При вызове метода из различных кусочков будет генерироваться случайное сочетание операционной системы, спецификаций и версии браузера, которые можно передавать в запрос:"
      ]
    },
    {
      "cell_type": "code",
      "execution_count": 5,
      "metadata": {
        "ExecuteTime": {
          "end_time": "2024-04-16T05:57:56.959554Z",
          "start_time": "2024-04-16T05:57:54.091880Z"
        },
        "colab": {
          "base_uri": "https://localhost:8080/"
        },
        "id": "RuXUOqn8Dmjl",
        "outputId": "68002514-3773-4b77-c9df-7eb41b9c209b"
      },
      "outputs": [
        {
          "output_type": "stream",
          "name": "stdout",
          "text": [
            "Collecting fake_useragent\n",
            "  Downloading fake_useragent-1.5.1-py3-none-any.whl (17 kB)\n",
            "Installing collected packages: fake_useragent\n",
            "Successfully installed fake_useragent-1.5.1\n"
          ]
        }
      ],
      "source": [
        "!pip install fake_useragent"
      ]
    },
    {
      "cell_type": "code",
      "execution_count": 30,
      "metadata": {
        "ExecuteTime": {
          "end_time": "2024-04-16T05:57:56.973903Z",
          "start_time": "2024-04-16T05:57:56.961263Z"
        },
        "id": "pPWydJxDDmjm"
      },
      "outputs": [],
      "source": [
        "from fake_useragent import UserAgent"
      ]
    },
    {
      "cell_type": "code",
      "execution_count": 7,
      "metadata": {
        "ExecuteTime": {
          "end_time": "2024-04-16T05:57:59.336578Z",
          "start_time": "2024-04-16T05:57:59.316095Z"
        },
        "colab": {
          "base_uri": "https://localhost:8080/",
          "height": 35
        },
        "id": "A7m84z5UDmjm",
        "outputId": "118a627e-1dc3-4e38-8dda-5bb2acd0beb3"
      },
      "outputs": [
        {
          "output_type": "execute_result",
          "data": {
            "text/plain": [
              "'Mozilla/5.0 (Linux; Android 8.1.0; Moto G (4)) AppleWebKit/537.36 (KHTML, like Gecko) Chrome/122.0.0.0 Mobile Safari/537.36 PTST/240201.144844'"
            ],
            "application/vnd.google.colaboratory.intrinsic+json": {
              "type": "string"
            }
          },
          "metadata": {},
          "execution_count": 7
        }
      ],
      "source": [
        "UserAgent().chrome"
      ]
    },
    {
      "cell_type": "code",
      "execution_count": 28,
      "metadata": {
        "ExecuteTime": {
          "end_time": "2024-04-16T05:58:11.683147Z",
          "start_time": "2024-04-16T05:58:04.937892Z"
        },
        "colab": {
          "base_uri": "https://localhost:8080/"
        },
        "id": "e2Dz_3RiDmjm",
        "outputId": "c7169af9-ce51-4ee7-c932-c023450b1b99"
      },
      "outputs": [
        {
          "output_type": "execute_result",
          "data": {
            "text/plain": [
              "<Response [200]>"
            ]
          },
          "metadata": {},
          "execution_count": 28
        }
      ],
      "source": [
        "response = requests.get(page_link, headers={'User-Agent': UserAgent().chrome})\n",
        "response"
      ]
    },
    {
      "cell_type": "markdown",
      "metadata": {
        "id": "Db-U9HYLDmjm"
      },
      "source": [
        "Cоединение установлено и данные получены."
      ]
    },
    {
      "cell_type": "code",
      "execution_count": 29,
      "metadata": {
        "ExecuteTime": {
          "end_time": "2024-04-16T05:58:11.689472Z",
          "start_time": "2024-04-16T05:58:11.683411Z"
        },
        "colab": {
          "base_uri": "https://localhost:8080/"
        },
        "id": "_ZT3EiAjDmjm",
        "outputId": "5241a8d0-b128-46fc-ec2d-9307ba236b77"
      },
      "outputs": [
        {
          "output_type": "execute_result",
          "data": {
            "text/plain": [
              "bytes"
            ]
          },
          "metadata": {},
          "execution_count": 29
        }
      ],
      "source": [
        "html = response.content\n",
        "\n",
        "type(html)"
      ]
    },
    {
      "cell_type": "markdown",
      "metadata": {
        "id": "6MMUO5b_Dmjn"
      },
      "source": [
        "## 1.4. Beautiful Soup\n",
        "\n",
        "<img align=\"center\" src=\"pictures/soup.jpg\" height=\"200\" width=\"200\">\n",
        "\n",
        "Пакет **[bs4 , a.k.a BeautifulSoup](https://www.crummy.com/software/BeautifulSoup/)** был назван в честь стиха про красивый суп из Алисы в стране чудес.\n",
        "\n",
        "BeautifulSoup — это библиотека, которая из необработанного HTML кода страницы создаёт структурированный массив данных, по которому очень удобно искать необходимые теги, классы, атрибуты, тексты и прочие элементы веб страниц.\n",
        "\n",
        "> Пакет под названием `BeautifulSoup` — скорее всего, не то, что нам нужно. Это третья версия (*Beautiful Soup 3*), а мы будем использовать четвертую. Нужно будет установить пакет `beautifulsoup4`. Чтобы было совсем весело, при импорте нужно указывать другое название пакета — `bs4`, а импортировать функцию под названием `BeautifulSoup`. В общем, сначала легко запутаться, но эти трудности нужно преодолеть.\n",
        "\n",
        "```\n",
        "pip install beautifulsoup4\n",
        "```"
      ]
    },
    {
      "cell_type": "code",
      "execution_count": 5,
      "metadata": {
        "ExecuteTime": {
          "end_time": "2024-04-16T05:58:16.871328Z",
          "start_time": "2024-04-16T05:58:16.814190Z"
        },
        "id": "CuaSJnthDmjn"
      },
      "outputs": [],
      "source": [
        "from bs4 import BeautifulSoup"
      ]
    },
    {
      "cell_type": "markdown",
      "metadata": {
        "id": "xffR9PMoDmjn"
      },
      "source": [
        "Передадим функции `BeautifulSoup` текст веб-страницы, которую мы скачали выше."
      ]
    },
    {
      "cell_type": "code",
      "execution_count": 30,
      "metadata": {
        "ExecuteTime": {
          "end_time": "2024-04-16T05:58:18.753135Z",
          "start_time": "2024-04-16T05:58:18.744573Z"
        },
        "colab": {
          "base_uri": "https://localhost:8080/",
          "height": 186
        },
        "id": "RMtd6ze-Dmjn",
        "outputId": "154ad102-c16d-4779-c250-a329eb1b9a02"
      },
      "outputs": [
        {
          "output_type": "execute_result",
          "data": {
            "text/plain": [
              "bs4.BeautifulSoup"
            ],
            "text/html": [
              "<div style=\"max-width:800px; border: 1px solid var(--colab-border-color);\"><style>\n",
              "      pre.function-repr-contents {\n",
              "        overflow-x: auto;\n",
              "        padding: 8px 12px;\n",
              "        max-height: 500px;\n",
              "      }\n",
              "\n",
              "      pre.function-repr-contents.function-repr-contents-collapsed {\n",
              "        cursor: pointer;\n",
              "        max-height: 100px;\n",
              "      }\n",
              "    </style>\n",
              "    <pre style=\"white-space: initial; background:\n",
              "         var(--colab-secondary-surface-color); padding: 8px 12px;\n",
              "         border-bottom: 1px solid var(--colab-border-color);\"><b>bs4.BeautifulSoup</b><br/>def __call__(*args, **kwargs)</pre><pre class=\"function-repr-contents function-repr-contents-collapsed\" style=\"\"><a class=\"filepath\" style=\"display:none\" href=\"#\">/usr/local/lib/python3.10/dist-packages/bs4/__init__.py</a>A data structure representing a parsed HTML or XML document.\n",
              "\n",
              "Most of the methods you&#x27;ll call on a BeautifulSoup object are inherited from\n",
              "PageElement or Tag.\n",
              "\n",
              "Internally, this class defines the basic interface called by the\n",
              "tree builders when converting an HTML/XML document into a data\n",
              "structure. The interface abstracts away the differences between\n",
              "parsers. To write a new tree builder, you&#x27;ll need to understand\n",
              "these methods as a whole.\n",
              "\n",
              "These methods will be called by the BeautifulSoup constructor:\n",
              "  * reset()\n",
              "  * feed(markup)\n",
              "\n",
              "The tree builder may call these methods from its feed() implementation:\n",
              "  * handle_starttag(name, attrs) # See note about return value\n",
              "  * handle_endtag(name)\n",
              "  * handle_data(data) # Appends to the current data node\n",
              "  * endData(containerClass) # Ends the current data node\n",
              "\n",
              "No matter how complicated the underlying parser is, you should be\n",
              "able to build a tree using &#x27;start tag&#x27; events, &#x27;end tag&#x27; events,\n",
              "&#x27;data&#x27; events, and &quot;done with data&quot; events.\n",
              "\n",
              "If you encounter an empty-element tag (aka a self-closing tag,\n",
              "like HTML&#x27;s &lt;br&gt; tag), call handle_starttag and then\n",
              "handle_endtag.</pre>\n",
              "      <script>\n",
              "      if (google.colab.kernel.accessAllowed && google.colab.files && google.colab.files.view) {\n",
              "        for (const element of document.querySelectorAll('.filepath')) {\n",
              "          element.style.display = 'block'\n",
              "          element.onclick = (event) => {\n",
              "            event.preventDefault();\n",
              "            event.stopPropagation();\n",
              "            google.colab.files.view(element.textContent, 76);\n",
              "          };\n",
              "        }\n",
              "      }\n",
              "      for (const element of document.querySelectorAll('.function-repr-contents')) {\n",
              "        element.onclick = (event) => {\n",
              "          event.preventDefault();\n",
              "          event.stopPropagation();\n",
              "          element.classList.toggle('function-repr-contents-collapsed');\n",
              "        };\n",
              "      }\n",
              "      </script>\n",
              "      </div>"
            ]
          },
          "metadata": {},
          "execution_count": 30
        }
      ],
      "source": [
        "soup = BeautifulSoup(html,'html.parser')\n",
        "\n",
        "type(soup)"
      ]
    },
    {
      "cell_type": "raw",
      "metadata": {
        "id": "O1-cC4AiDmjn"
      },
      "source": [
        "<!DOCTYPE html>\n",
        "\n",
        "<html xmlns=\"http://www.w3.org/1999/xhtml\" xmlns:fb=\"http://www.facebook.com/2008/fbml\">\n",
        "<head>\n",
        "<meta content=\"text/html; charset=utf-8\" http-equiv=\"Content-Type\"/>\n",
        "<script type=\"text/javascript\">window.NREUM||(NREUM={});NREUM.info={\"beacon\":\"bam.nr-data.net\",\"errorBeacon\":\"bam.nr-data.net\",\"licenseKey\":\"c1a6d52f38\",\"applicationID\":\"31165848\",\"transactionName\":\"dFdfRUpeWglTQB8GDUNKWFRLHkUNWUU=\",\"queueTime\":0,\"applicationTime\":24,\"agent\":\"\"}</script>\n",
        "<script type=\"text/javascript\">window.NREUM||(NREUM={}),__nr_require=function(e,n,t){function r(t){if(!n[t]){var o=n[t]={exports:{}};e[t][0].call(o.exports,function(n){var o=e[t][1][n];return r(o||n)},o,o.exports)}return n[t].exports}if(\"function\"==typeof __nr_require)return __nr_require;for(var o=0;o<t.length;o++)r(t[o]);return r}({1:[function(e,n,t){function r(){}function o(e,n,t){return function(){return i(e,[c.now()].concat(u(arguments)),n?null:this,t),n?void 0:this}}var i=e(\"handle\"),a=e(2),u=e(3),f=e(\"ee\").get(\"tracer\"),c=e(\"loader\"),s=NREUM;\"undefined\"==typeof window.newrelic&&(newrelic=s);var p="
      ]
    },
    {
      "cell_type": "markdown",
      "metadata": {
        "id": "2txsf7ucDmjo"
      },
      "source": [
        "Посмотрим что лежит внутри переменной `soup`. Невнимательный пользователь, скорее всего, скажет,что ничего вообще не изменилось. Тем не менее, это не так. Теперь мы можем свободно перемещаться по HTML-дереву страницы и искать нужные нам теги."
      ]
    },
    {
      "cell_type": "code",
      "execution_count": 31,
      "metadata": {
        "ExecuteTime": {
          "end_time": "2024-04-16T05:58:25.411648Z",
          "start_time": "2024-04-16T05:58:25.401002Z"
        },
        "colab": {
          "base_uri": "https://localhost:8080/"
        },
        "id": "l47GhfFoDmjo",
        "outputId": "3106de24-2341-4d60-e351-000f1cce6af3"
      },
      "outputs": [
        {
          "output_type": "execute_result",
          "data": {
            "text/plain": [
              "<title>\n",
              "All Entries - Page 2 | Know Your Meme\n",
              "</title>"
            ]
          },
          "metadata": {},
          "execution_count": 31
        }
      ],
      "source": [
        "soup.html.head.title"
      ]
    },
    {
      "cell_type": "markdown",
      "metadata": {
        "id": "xt7ljm4FDmjo"
      },
      "source": [
        "Можно извлечь из того места, где мы оказались, текст с помощью метода `text`."
      ]
    },
    {
      "cell_type": "code",
      "execution_count": 32,
      "metadata": {
        "ExecuteTime": {
          "end_time": "2024-04-16T05:58:30.633712Z",
          "start_time": "2024-04-16T05:58:30.620746Z"
        },
        "colab": {
          "base_uri": "https://localhost:8080/",
          "height": 35
        },
        "id": "WLGxxmjdDmjo",
        "outputId": "10813c2a-4d6a-4758-8bf2-c8687fe29a6b"
      },
      "outputs": [
        {
          "output_type": "execute_result",
          "data": {
            "text/plain": [
              "'\\nAll Entries - Page 2 | Know Your Meme\\n'"
            ],
            "application/vnd.google.colaboratory.intrinsic+json": {
              "type": "string"
            }
          },
          "metadata": {},
          "execution_count": 32
        }
      ],
      "source": [
        "soup.html.head.title.text"
      ]
    },
    {
      "cell_type": "markdown",
      "metadata": {
        "id": "2ImIz1yiDmjo"
      },
      "source": [
        "Более того, зная адрес элемента, мы сразу можем найти его. Например, можно сделать это по классу. Следующая команда должна найти элемент, который лежит внутри тега `a` и имеет класс `photo`."
      ]
    },
    {
      "cell_type": "code",
      "source": [
        "pip install requests-html"
      ],
      "metadata": {
        "colab": {
          "base_uri": "https://localhost:8080/",
          "height": 827
        },
        "id": "K7wSi8AjLYkz",
        "outputId": "047a3a7c-e856-4382-ad70-10d641275521"
      },
      "execution_count": 43,
      "outputs": [
        {
          "output_type": "stream",
          "name": "stdout",
          "text": [
            "Collecting requests-html\n",
            "  Downloading requests_html-0.10.0-py3-none-any.whl (13 kB)\n",
            "Requirement already satisfied: requests in /usr/local/lib/python3.10/dist-packages (from requests-html) (2.31.0)\n",
            "Collecting pyquery (from requests-html)\n",
            "  Downloading pyquery-2.0.0-py3-none-any.whl (22 kB)\n",
            "Requirement already satisfied: fake-useragent in /usr/local/lib/python3.10/dist-packages (from requests-html) (1.5.1)\n",
            "Collecting parse (from requests-html)\n",
            "  Downloading parse-1.20.1-py2.py3-none-any.whl (20 kB)\n",
            "Collecting bs4 (from requests-html)\n",
            "  Downloading bs4-0.0.2-py2.py3-none-any.whl (1.2 kB)\n",
            "Collecting w3lib (from requests-html)\n",
            "  Downloading w3lib-2.1.2-py3-none-any.whl (21 kB)\n",
            "Collecting pyppeteer>=0.0.14 (from requests-html)\n",
            "  Downloading pyppeteer-2.0.0-py3-none-any.whl (82 kB)\n",
            "\u001b[2K     \u001b[90m━━━━━━━━━━━━━━━━━━━━━━━━━━━━━━━━━━━━━━━━\u001b[0m \u001b[32m82.9/82.9 kB\u001b[0m \u001b[31m4.0 MB/s\u001b[0m eta \u001b[36m0:00:00\u001b[0m\n",
            "\u001b[?25hRequirement already satisfied: appdirs<2.0.0,>=1.4.3 in /usr/local/lib/python3.10/dist-packages (from pyppeteer>=0.0.14->requests-html) (1.4.4)\n",
            "Requirement already satisfied: certifi>=2023 in /usr/local/lib/python3.10/dist-packages (from pyppeteer>=0.0.14->requests-html) (2024.2.2)\n",
            "Requirement already satisfied: importlib-metadata>=1.4 in /usr/local/lib/python3.10/dist-packages (from pyppeteer>=0.0.14->requests-html) (7.1.0)\n",
            "Collecting pyee<12.0.0,>=11.0.0 (from pyppeteer>=0.0.14->requests-html)\n",
            "  Downloading pyee-11.1.0-py3-none-any.whl (15 kB)\n",
            "Requirement already satisfied: tqdm<5.0.0,>=4.42.1 in /usr/local/lib/python3.10/dist-packages (from pyppeteer>=0.0.14->requests-html) (4.66.2)\n",
            "Collecting urllib3<2.0.0,>=1.25.8 (from pyppeteer>=0.0.14->requests-html)\n",
            "  Downloading urllib3-1.26.18-py2.py3-none-any.whl (143 kB)\n",
            "\u001b[2K     \u001b[90m━━━━━━━━━━━━━━━━━━━━━━━━━━━━━━━━━━━━━━━━\u001b[0m \u001b[32m143.8/143.8 kB\u001b[0m \u001b[31m3.7 MB/s\u001b[0m eta \u001b[36m0:00:00\u001b[0m\n",
            "\u001b[?25hCollecting websockets<11.0,>=10.0 (from pyppeteer>=0.0.14->requests-html)\n",
            "  Downloading websockets-10.4-cp310-cp310-manylinux_2_5_x86_64.manylinux1_x86_64.manylinux_2_17_x86_64.manylinux2014_x86_64.whl (106 kB)\n",
            "\u001b[2K     \u001b[90m━━━━━━━━━━━━━━━━━━━━━━━━━━━━━━━━━━━━━━━━\u001b[0m \u001b[32m106.8/106.8 kB\u001b[0m \u001b[31m11.2 MB/s\u001b[0m eta \u001b[36m0:00:00\u001b[0m\n",
            "\u001b[?25hRequirement already satisfied: beautifulsoup4 in /usr/local/lib/python3.10/dist-packages (from bs4->requests-html) (4.12.3)\n",
            "Requirement already satisfied: lxml>=2.1 in /usr/local/lib/python3.10/dist-packages (from pyquery->requests-html) (4.9.4)\n",
            "Collecting cssselect>=1.2.0 (from pyquery->requests-html)\n",
            "  Downloading cssselect-1.2.0-py2.py3-none-any.whl (18 kB)\n",
            "Requirement already satisfied: charset-normalizer<4,>=2 in /usr/local/lib/python3.10/dist-packages (from requests->requests-html) (3.3.2)\n",
            "Requirement already satisfied: idna<4,>=2.5 in /usr/local/lib/python3.10/dist-packages (from requests->requests-html) (3.7)\n",
            "Requirement already satisfied: zipp>=0.5 in /usr/local/lib/python3.10/dist-packages (from importlib-metadata>=1.4->pyppeteer>=0.0.14->requests-html) (3.18.1)\n",
            "Requirement already satisfied: typing-extensions in /usr/local/lib/python3.10/dist-packages (from pyee<12.0.0,>=11.0.0->pyppeteer>=0.0.14->requests-html) (4.11.0)\n",
            "Requirement already satisfied: soupsieve>1.2 in /usr/local/lib/python3.10/dist-packages (from beautifulsoup4->bs4->requests-html) (2.5)\n",
            "Installing collected packages: parse, websockets, w3lib, urllib3, pyee, cssselect, pyquery, pyppeteer, bs4, requests-html\n",
            "  Attempting uninstall: urllib3\n",
            "    Found existing installation: urllib3 2.0.7\n",
            "    Uninstalling urllib3-2.0.7:\n",
            "      Successfully uninstalled urllib3-2.0.7\n",
            "Successfully installed bs4-0.0.2 cssselect-1.2.0 parse-1.20.1 pyee-11.1.0 pyppeteer-2.0.0 pyquery-2.0.0 requests-html-0.10.0 urllib3-1.26.18 w3lib-2.1.2 websockets-10.4\n"
          ]
        },
        {
          "output_type": "display_data",
          "data": {
            "application/vnd.colab-display-data+json": {
              "pip_warning": {
                "packages": [
                  "urllib3"
                ]
              },
              "id": "dc622ba8e04a4fd9acc8cb36f04bb7e8"
            }
          },
          "metadata": {}
        }
      ]
    },
    {
      "cell_type": "code",
      "source": [
        "from requests_html import HTMLSession\n",
        "\n",
        "link = 'https://knowyourmeme.com/memes/all/page/2'\n",
        "\n",
        "session = HTMLSession()\n",
        "r = session.get(link)"
      ],
      "metadata": {
        "id": "6FbcJ-x8Oh4b"
      },
      "execution_count": 27,
      "outputs": []
    },
    {
      "cell_type": "code",
      "execution_count": 16,
      "metadata": {
        "ExecuteTime": {
          "end_time": "2024-04-16T05:58:32.926413Z",
          "start_time": "2024-04-16T05:58:32.916489Z"
        },
        "colab": {
          "base_uri": "https://localhost:8080/"
        },
        "id": "SATZcx_0Dmjo",
        "outputId": "b2e7f784-1e64-40a9-923f-a257a3f16f53"
      },
      "outputs": [
        {
          "output_type": "stream",
          "name": "stdout",
          "text": [
            "[<a class=\"photo left\" href=\"https://knowyourmeme.com/memes/industry-logos-as-vtuber-logos\" target=\"_self\"><img alt=\"Twitter Users Are Crafting Parody Brand Logos To Make Them More 'VTuber'\" fetchpriority=\"low\" height=\"112\" src=\"https://i.kym-cdn.com/featured_items/icons/wide/000/023/905/fb9.jpeg\" title=\"Twitter Users Are Crafting Parody Brand Logos To Make Them More 'VTuber'\" width=\"198\"/> <div class=\"info abs\"> <div class=\"c\"> Twitter Users Are Crafting Parody Brand Logos To Make Them More 'VTuber' </div> </div> </a>, <a class=\"photo left\" href=\"https://knowyourmeme.com/memes/touch-me-while-your-bros-play-grand-theft-auto\" target=\"_self\"><img alt=\"Taylor Swift Is Getting Cooked A Little Over Her 'Grand Theft Auto' Lyric\" fetchpriority=\"low\" height=\"112\" src=\"https://i.kym-cdn.com/featured_items/icons/wide/000/023/904/cover4.jpg\" title=\"Taylor Swift Is Getting Cooked A Little Over Her 'Grand Theft Auto' Lyric\" width=\"198\"/> <div class=\"info abs\"> <div class=\"c\"> Taylor Swift Is Getting Cooked A Little Over Her 'Grand Theft Auto' Lyric </div> </div> </a>, <a class=\"photo left\" href=\"https://knowyourmeme.com/memes/subcultures/taylor-swifts-the-tortured-poets-department\" target=\"_self\"><img alt=\"The Tortured Poets Department meme\" fetchpriority=\"low\" height=\"112\" src=\"https://i.kym-cdn.com/featured_items/icons/wide/000/023/903/950.jpg\" title=\"Confusing Lyrics On Taylor Swift's 'The Tortured Poets Department' Album Are Dividing Fans\" width=\"198\"/> <div class=\"info abs\"> <div class=\"c\"> Confusing Lyrics On Taylor Swift's 'The Tortured Poets Department' Album Are Dividing Fans </div> </div> </a>, <a class=\"photo left\" href=\"https://knowyourmeme.com/memes/seth-rollins-i-dont-think-so-pal\" target=\"_self\"><img alt=\"Seth Rollins Says 'I Don't Think So, Pal' In TikTok Meme\" fetchpriority=\"low\" height=\"112\" src=\"https://i.kym-cdn.com/featured_items/icons/wide/000/023/902/Screenshot_2024-04-19_at_2.25.17_PM.jpg\" title=\"Seth Rollins Says 'I Don't Think So, Pal' In TikTok Meme\" width=\"198\"/> <div class=\"info abs\"> <div class=\"c\"> Seth Rollins Says 'I Don't Think So, Pal' In TikTok Meme </div> </div> </a>, <a class=\"photo left\" href=\"https://knowyourmeme.com/memes/events/slavoj-zizek-vs-jordan-peterson-debate\" target=\"_self\"><img alt=\"Peterson and Zizek Attempted to Debate On Friday \" fetchpriority=\"low\" height=\"112\" src=\"https://i.kym-cdn.com/featured_items/icons/wide/000/023/901/Screen_Shot_2019-04-22_at_10.06.54_AM.png\" title=\"The Iconic Zizek vs Peterson Debate Took Place On This Date Back In 2018\" width=\"198\"/> <div class=\"info abs\"> <div class=\"c\"> The Iconic Zizek vs Peterson Debate Took Place On This Date Back In 2018 </div> </div> </a>, <a class=\"photo\" href=\"https://knowyourmeme.com/memes/who-tf-is-coco\"><img alt=\"Who TF Is Coco meme and viral video.\" data-src=\"https://i.kym-cdn.com/entries/icons/medium/000/049/434/who_tf_is_coco.jpg\" loading=\"lazy\" src=\"https://a.kym-cdn.com/assets/blank-b3f96f160b75b1b49b426754ba188fe8.gif\" title=\"Who TF Is Coco\"/> <div class=\"entry-labels\"> <span class=\"label label-submission\"> Submission </span> </div> </a>, <a class=\"photo\" href=\"https://knowyourmeme.com/memes/goyang-nasi-padang\"><img alt=\"Goyang Nasi Padang\" data-src=\"https://i.kym-cdn.com/entries/icons/medium/000/049/433/goyang_nasi_padang.jpg\" loading=\"lazy\" src=\"https://a.kym-cdn.com/assets/blank-b3f96f160b75b1b49b426754ba188fe8.gif\" title=\"Goyang Nasi Padang\"/> <div class=\"entry-labels\"> <span class=\"label label-submission\"> Submission </span> </div> </a>, <a class=\"photo\" href=\"https://knowyourmeme.com/memes/prettiest-girl-in-the-world-think-again\"><img alt=\"Prettiest Girl in the World / Think Again meme example.\" data-src=\"https://i.kym-cdn.com/entries/icons/medium/000/049/432/cover1.jpg\" loading=\"lazy\" src=\"https://a.kym-cdn.com/assets/blank-b3f96f160b75b1b49b426754ba188fe8.gif\" title=\"Prettiest Girl in the World / Think Again\"/> <div class=\"entry-labels\"> <span class=\"label label-submission\"> Submission </span> </div> </a>, <a class=\"photo\" href=\"https://knowyourmeme.com/memes/you-wouldnt-last-an-hour-in-the-asylum-where-they-raised-me\"><img alt=\"You Wouldn't Last an Hour in The Asylum Where They Raised Me meme example.\" data-src=\"https://i.kym-cdn.com/entries/icons/medium/000/049/431/asylum.jpg\" loading=\"lazy\" src=\"https://a.kym-cdn.com/assets/blank-b3f96f160b75b1b49b426754ba188fe8.gif\" title=\"You Wouldn't Last an Hour in The Asylum Where They Raised Me\"/> <div class=\"entry-labels\"> <span class=\"label label-submission\"> Submission </span> </div> </a>, <a class=\"photo\" href=\"https://knowyourmeme.com/memes/fiona-harvey-is-martha-theories-baby-reindeer\"><img alt=\"Fiona Harvey Is Martha Theories Baby Reindeer image example.\" data-src=\"https://i.kym-cdn.com/entries/icons/medium/000/049/430/fiona_harvey.jpg\" loading=\"lazy\" src=\"https://a.kym-cdn.com/assets/blank-b3f96f160b75b1b49b426754ba188fe8.gif\" title=\"Fiona Harvey Is Martha Theories (Baby Reindeer)\"/> <div class=\"entry-labels\"> <span class=\"label label-submission\"> Submission </span> </div> </a>, <a class=\"photo\" href=\"https://knowyourmeme.com/memes/smug-bookworm-dragon-roommate\"><img alt=\"Smug Bookworm Dragon Roommate\" data-src=\"https://i.kym-cdn.com/entries/icons/medium/000/049/429/smug_dragon.jpg\" loading=\"lazy\" src=\"https://a.kym-cdn.com/assets/blank-b3f96f160b75b1b49b426754ba188fe8.gif\" title=\"Smug Bookworm Dragon Roommate\"/> <div class=\"entry-labels\"> <span class=\"label label-submission\"> Submission </span> </div> </a>, <a class=\"photo\" href=\"https://knowyourmeme.com/memes/events/ai-adin-ross-controversy\"><img alt=\"AI Adin Ross Controversy / fake Adin Ross prank video example.\" data-src=\"https://i.kym-cdn.com/entries/icons/medium/000/049/428/AI_Adin_Ross_cover.jpg\" loading=\"lazy\" src=\"https://a.kym-cdn.com/assets/blank-b3f96f160b75b1b49b426754ba188fe8.gif\" title=\"AI Adin Ross Controversy\"/> <div class=\"entry-labels\"> <span class=\"label label-submission\"> Submission </span> <span class=\"label\" style=\"background: #0b6a40; color: white;\">Event</span> </div> </a>, <a class=\"photo\" href=\"https://knowyourmeme.com/memes/look-between-x-and-y-on-your-keyboard\"><img alt=\"Look Between X and Y On Your Keyboard meme example.\" data-src=\"https://i.kym-cdn.com/entries/icons/medium/000/049/427/Look_between_the_H_and_the_L_on_your_keyboard_cover.jpg\" loading=\"lazy\" src=\"https://a.kym-cdn.com/assets/blank-b3f96f160b75b1b49b426754ba188fe8.gif\" title=\"Look Between X and Y On Your Keyboard\"/> <div class=\"entry-labels\"> <span class=\"label label-submission\"> Submission </span> </div> </a>, <a class=\"photo\" href=\"https://knowyourmeme.com/memes/grounding-countries\"><img alt=\"Grounding Countries\" data-src=\"https://i.kym-cdn.com/entries/icons/medium/000/049/426/18DFD2A9-2671-4B80-9514-2EFA24BD05DA.jpeg\" loading=\"lazy\" src=\"https://a.kym-cdn.com/assets/blank-b3f96f160b75b1b49b426754ba188fe8.gif\" title=\"Grounding Countries\"/> <div class=\"entry-labels\"> <span class=\"label label-deadpool\"> Deadpool </span> </div> </a>, <a class=\"photo\" href=\"https://knowyourmeme.com/memes/anatomy-of-a-gamer\"><img alt=\"Anatomy of a Gamer meme.\" data-src=\"https://i.kym-cdn.com/entries/icons/medium/000/049/425/anatomy_of_a_gamer_thumbnail.jpg\" loading=\"lazy\" src=\"https://a.kym-cdn.com/assets/blank-b3f96f160b75b1b49b426754ba188fe8.gif\" title=\"Anatomy of a Gamer\"/> <div class=\"entry-labels\"> <span class=\"label label-submission\"> Submission </span> <span class=\"label label-nsfw\"> NSFW </span> <span class=\"label label-updated\"> Updated </span> </div> </a>, <a class=\"photo\" href=\"https://knowyourmeme.com/memes/people/fallenchungus\"><img alt=\"Fallenchungus\" data-src=\"https://i.kym-cdn.com/entries/icons/medium/000/049/424/cover5.jpg\" loading=\"lazy\" src=\"https://a.kym-cdn.com/assets/blank-b3f96f160b75b1b49b426754ba188fe8.gif\" title=\"Fallenchungus\"/> <div class=\"entry-labels\"> <span class=\"label label-submission\"> Submission </span> <span class=\"label\" style=\"background: #d32f2e; color: white;\">Person</span> </div> </a>, <a class=\"photo\" href=\"https://knowyourmeme.com/memes/touch-me-while-your-bros-play-grand-theft-auto\"><img alt=\"Touch Me While Your Bros Play Grand Theft Auto meme example.\" data-src=\"https://i.kym-cdn.com/entries/icons/medium/000/049/422/cover4.jpg\" loading=\"lazy\" src=\"https://a.kym-cdn.com/assets/blank-b3f96f160b75b1b49b426754ba188fe8.gif\" title=\"Touch Me While Your Bros Play Grand Theft Auto\"/> <div class=\"entry-labels\"> <span class=\"label label-submission\"> Submission </span> <span class=\"label label-updated\"> Updated </span> </div> </a>, <a class=\"photo\" href=\"https://knowyourmeme.com/memes/fig-tree-analogy\"><img alt=\"A pair of fig trees, with fruits labeled as different possible futures.\" data-src=\"https://i.kym-cdn.com/entries/icons/medium/000/049/421/fig-tree-analogy.jpg\" loading=\"lazy\" src=\"https://a.kym-cdn.com/assets/blank-b3f96f160b75b1b49b426754ba188fe8.gif\" title=\"Fig Tree Analogy\"/> <div class=\"entry-labels\"> <span class=\"label label-submission\"> Submission </span> </div> </a>, <a class=\"photo\" href=\"https://knowyourmeme.com/memes/seth-rollins-i-dont-think-so-pal\"><img alt=\"Seth Rollins I Don't Think So Pal meme depicting Seth Rollins, Dean Ambrose and Roman Reigns during a WWE match.\" data-src=\"https://i.kym-cdn.com/entries/icons/medium/000/049/420/Screenshot_2024-04-19_at_2.25.17_PM.jpg\" loading=\"lazy\" src=\"https://a.kym-cdn.com/assets/blank-b3f96f160b75b1b49b426754ba188fe8.gif\" title=\"Seth Rollins &quot;I Don't Think So Pal&quot;\"/> <div class=\"entry-labels\"> <span class=\"label label-submission\"> Submission </span> </div> </a>, <a class=\"photo\" href=\"https://knowyourmeme.com/memes/shocked-gary-neville\"><img alt=\"Shocked Gary Neville meme.\" data-src=\"https://i.kym-cdn.com/entries/icons/medium/000/049/419/1.jpg\" loading=\"lazy\" src=\"https://a.kym-cdn.com/assets/blank-b3f96f160b75b1b49b426754ba188fe8.gif\" title=\"Shocked Gary Neville\"/> <div class=\"entry-labels\"> <span class=\"label label-submission\"> Submission </span> </div> </a>, <a class=\"photo\" href=\"https://knowyourmeme.com/memes/subcultures/nigel-and-marmalade\"><img alt=\"drawings of Nigel and Marmalade\" data-src=\"https://i.kym-cdn.com/entries/icons/medium/000/049/418/nigelcover.jpg\" loading=\"lazy\" src=\"https://a.kym-cdn.com/assets/blank-b3f96f160b75b1b49b426754ba188fe8.gif\" title=\"Nigel and Marmalade\"/> <div class=\"entry-labels\"> <span class=\"label label-submission\"> Submission </span> <span class=\"label\" style=\"background: #5d1cb1; color: white;\">Subculture</span> </div> </a>]\n"
          ]
        }
      ],
      "source": [
        "html = r.content\n",
        "\n",
        "soup = BeautifulSoup(html, 'html.parser')\n",
        "\n",
        "obj = soup.findAll('a', attrs={'class': 'photo'})\n",
        "print(obj)"
      ]
    },
    {
      "cell_type": "markdown",
      "metadata": {
        "id": "u2HOHAUgDmjo"
      },
      "source": [
        "Однако, вопреки нашим ожиданиям, извлечённый объект имеет класс `\"photo left\"`. Оказывается, `BeautifulSoup4` расценивает аттрибуты `class` как набор отдельных значений, поэтому `\"photo left\"` для библиотеки равносильно `[\"photo\", \"left\"]`, а указанное нами значение этого класса `\"photo\"` входит в этот список. Чтобы избежать такой неприятной ситуации, придется воспользоваться собственной функцией и задать строгое соответствие:"
      ]
    },
    {
      "cell_type": "markdown",
      "metadata": {
        "id": "KcLHqvn1Dmjo"
      },
      "source": [
        "Полученный после поиска объект также обладает структурой bs4. Поэтому можно продолжить искать нужные нам объекты уже в нём. Извлечём ссылку на этот мем. Сделать это можно по атрибуту `href`, в котором лежит наша ссылка."
      ]
    },
    {
      "cell_type": "markdown",
      "metadata": {
        "id": "bOpq3TNxDmjp"
      },
      "source": [
        "Обратите внимание, что после преобразований у данных поменялся тип. Теперь он `str`. Это означет, что с ними можно работать как с текстом."
      ]
    },
    {
      "cell_type": "markdown",
      "metadata": {
        "id": "YA8pvpYVDmjp"
      },
      "source": [
        "Если несколько элементов на странице обладают указанным адресом, то метод `find` вернёт только самый первый.  Чтобы найти все элементы с таким адресом, нужно использовать метод `findAll`, и на выход будет выдан список. Таким образом, мы можем получить одним поиском сразу все объекты, содержащие ссылки на страницы с мемами."
      ]
    },
    {
      "cell_type": "code",
      "execution_count": 17,
      "metadata": {
        "ExecuteTime": {
          "end_time": "2024-04-16T05:58:37.663883Z",
          "start_time": "2024-04-16T05:58:37.657248Z"
        },
        "colab": {
          "base_uri": "https://localhost:8080/"
        },
        "id": "qS1_dq2IDmjp",
        "outputId": "82dd26b0-bed5-4828-8288-75f618374724"
      },
      "outputs": [
        {
          "output_type": "execute_result",
          "data": {
            "text/plain": [
              "[<a class=\"photo\" href=\"https://knowyourmeme.com/memes/who-tf-is-coco\"><img alt=\"Who TF Is Coco meme and viral video.\" data-src=\"https://i.kym-cdn.com/entries/icons/medium/000/049/434/who_tf_is_coco.jpg\" loading=\"lazy\" src=\"https://a.kym-cdn.com/assets/blank-b3f96f160b75b1b49b426754ba188fe8.gif\" title=\"Who TF Is Coco\"/> <div class=\"entry-labels\"> <span class=\"label label-submission\"> Submission </span> </div> </a>,\n",
              " <a class=\"photo\" href=\"https://knowyourmeme.com/memes/goyang-nasi-padang\"><img alt=\"Goyang Nasi Padang\" data-src=\"https://i.kym-cdn.com/entries/icons/medium/000/049/433/goyang_nasi_padang.jpg\" loading=\"lazy\" src=\"https://a.kym-cdn.com/assets/blank-b3f96f160b75b1b49b426754ba188fe8.gif\" title=\"Goyang Nasi Padang\"/> <div class=\"entry-labels\"> <span class=\"label label-submission\"> Submission </span> </div> </a>,\n",
              " <a class=\"photo\" href=\"https://knowyourmeme.com/memes/prettiest-girl-in-the-world-think-again\"><img alt=\"Prettiest Girl in the World / Think Again meme example.\" data-src=\"https://i.kym-cdn.com/entries/icons/medium/000/049/432/cover1.jpg\" loading=\"lazy\" src=\"https://a.kym-cdn.com/assets/blank-b3f96f160b75b1b49b426754ba188fe8.gif\" title=\"Prettiest Girl in the World / Think Again\"/> <div class=\"entry-labels\"> <span class=\"label label-submission\"> Submission </span> </div> </a>]"
            ]
          },
          "metadata": {},
          "execution_count": 17
        }
      ],
      "source": [
        "meme_links = soup.findAll(lambda tag: tag.name == 'a' and tag.get('class') == ['photo'])\n",
        "meme_links[:3]"
      ]
    },
    {
      "cell_type": "markdown",
      "metadata": {
        "id": "m04DkgD9Dmjq"
      },
      "source": [
        "Осталось очистить полученный список от лишнего:"
      ]
    },
    {
      "cell_type": "code",
      "execution_count": 18,
      "metadata": {
        "ExecuteTime": {
          "end_time": "2024-04-16T05:58:39.671024Z",
          "start_time": "2024-04-16T05:58:39.663969Z"
        },
        "id": "dOQ8Y26nDmjq"
      },
      "outputs": [],
      "source": [
        "meme_links = [link.attrs['href'] for link in meme_links]"
      ]
    },
    {
      "cell_type": "code",
      "execution_count": 22,
      "metadata": {
        "ExecuteTime": {
          "end_time": "2024-04-16T05:58:41.225893Z",
          "start_time": "2024-04-16T05:58:41.212189Z"
        },
        "colab": {
          "base_uri": "https://localhost:8080/"
        },
        "id": "hCTr9Fo3Dmjq",
        "outputId": "3907aa3f-3dcd-4db4-e5e8-9344f780d256"
      },
      "outputs": [
        {
          "output_type": "execute_result",
          "data": {
            "text/plain": [
              "['https://knowyourmeme.com/memes/who-tf-is-coco',\n",
              " 'https://knowyourmeme.com/memes/goyang-nasi-padang',\n",
              " 'https://knowyourmeme.com/memes/prettiest-girl-in-the-world-think-again',\n",
              " 'https://knowyourmeme.com/memes/you-wouldnt-last-an-hour-in-the-asylum-where-they-raised-me',\n",
              " 'https://knowyourmeme.com/memes/fiona-harvey-is-martha-theories-baby-reindeer',\n",
              " 'https://knowyourmeme.com/memes/smug-bookworm-dragon-roommate',\n",
              " 'https://knowyourmeme.com/memes/events/ai-adin-ross-controversy',\n",
              " 'https://knowyourmeme.com/memes/look-between-x-and-y-on-your-keyboard',\n",
              " 'https://knowyourmeme.com/memes/grounding-countries',\n",
              " 'https://knowyourmeme.com/memes/anatomy-of-a-gamer']"
            ]
          },
          "metadata": {},
          "execution_count": 22
        }
      ],
      "source": [
        "meme_links[:10]"
      ]
    },
    {
      "cell_type": "code",
      "execution_count": 21,
      "metadata": {
        "ExecuteTime": {
          "end_time": "2024-04-16T05:58:48.669728Z",
          "start_time": "2024-04-16T05:58:48.653351Z"
        },
        "colab": {
          "base_uri": "https://localhost:8080/"
        },
        "id": "TEng1jV4Dmjq",
        "outputId": "dae211fe-71a7-4e7a-d1d9-94459168910e"
      },
      "outputs": [
        {
          "output_type": "execute_result",
          "data": {
            "text/plain": [
              "16"
            ]
          },
          "metadata": {},
          "execution_count": 21
        }
      ],
      "source": [
        "len(meme_links)"
      ]
    },
    {
      "cell_type": "markdown",
      "metadata": {
        "id": "fmluZlveDmjr"
      },
      "source": [
        "Готово, получили ровно 16 ссылок по числу мемов на одной странице поиска."
      ]
    },
    {
      "cell_type": "markdown",
      "metadata": {
        "id": "2v6ZBgblDmjr"
      },
      "source": [
        "Чтобы легче было искать адрес элемента, можно установить для своего браузера специальную утилиту, позволяющую извлекать со страницы нужные теги, например, [selectorgadget.](http://selectorgadget.com/)\n",
        "\n",
        "Тем не менее, этот путь не подходит для истинного самурая. Есть другой способ — искать теги для каждого нужного нам элемента вручную. Для этого придётся жать правой кнопкой мышки по окну браузера и жать кнопку **Исследовать элемент (Inspect)**. После браузер будет выглядеть так:\n",
        "\n",
        "<img align=\"center\" src=\"pictures/memes_inspection.png\" >\n",
        "\n",
        "Полученный html, в котором находится адрес выбранного вами объекта, можно смело копировать в код."
      ]
    },
    {
      "cell_type": "markdown",
      "metadata": {
        "id": "f3-ODzVBDmjr"
      },
      "source": [
        "# 2. Собираем ссылки\n",
        "\n",
        "После того, как мы скачали все ссылки с текущей страницы, нам нужно каким-то образом перейти на соседнюю и начать скачивать ссылки с неё. На сайте это можно сделать пролистав страницу с мемами вниз, javascript-функции подгрузят новые мемы.\n",
        "\n",
        "Обычно, все параметры, которые мы устанавливаем на сайте для поиска, отражаются на структуре ссылки. Если мы хотим получить первую страницу с мемами, мы должны будем обратиться к сайту по ссылке\n",
        "\n",
        "                `https://knowyourmeme.com/memes/all/page/1`\n",
        "\n",
        "\n",
        "Если мы захотим получить вторую страницу, нам придётся заменить номер страницы на 2\n",
        "\n",
        "\n",
        "                `https://knowyourmeme.com/memes/all/page/2`\n",
        "\n",
        "Таким образом мы сможем пройтись по всем страницам."
      ]
    },
    {
      "cell_type": "code",
      "execution_count": 42,
      "metadata": {
        "ExecuteTime": {
          "end_time": "2024-04-16T05:59:22.758807Z",
          "start_time": "2024-04-16T05:59:22.749835Z"
        },
        "id": "QDqUZ9DuDmjs"
      },
      "outputs": [],
      "source": [
        "def getPageLinks(page_number):\n",
        "    \"\"\"\n",
        "        Возвращает список ссылок на мемы, полученный с текущей страницы\n",
        "\n",
        "        page_number: int/string\n",
        "            номер страницы для парсинга\n",
        "\n",
        "    \"\"\"\n",
        "    # составляем ссылку на страницу поиска\n",
        "    page_link = 'https://knowyourmeme.com/memes/all/page/{}'.format(page_number)\n",
        "\n",
        "    # запрашиваем данные по ней\n",
        "    response = session.get(page_link, headers={'User-Agent': UserAgent().chrome})\n",
        "\n",
        "    if not response.ok:\n",
        "      print(response)\n",
        "      # если сервер нам отказал, вернем пустой лист для текущей страницы\n",
        "      return []\n",
        "    else:\n",
        "      print(response.ok)\n",
        "\n",
        "    # получаем содержимое страницы\n",
        "    html = response.content\n",
        "    soup = BeautifulSoup(html,'html.parser')\n",
        "\n",
        "    # ищем ссылки на мемы и очищаем их от ненужных тэгов\n",
        "    meme_links = soup.findAll(lambda tag: tag.name == 'a' and tag.get('class') == ['photo'])\n",
        "    meme_links = [link.attrs['href'] for link in meme_links]\n",
        "\n",
        "    return meme_links"
      ]
    },
    {
      "cell_type": "code",
      "execution_count": 155,
      "metadata": {
        "ExecuteTime": {
          "end_time": "2024-04-16T05:59:15.726020Z",
          "start_time": "2024-04-16T05:59:13.626948Z"
        },
        "colab": {
          "base_uri": "https://localhost:8080/"
        },
        "id": "dXSkL9lDDmjs",
        "outputId": "14a9b738-9a1c-430b-c986-17f46ea0a73d"
      },
      "outputs": [
        {
          "output_type": "stream",
          "name": "stdout",
          "text": [
            "True\n"
          ]
        },
        {
          "output_type": "execute_result",
          "data": {
            "text/plain": [
              "['https://knowyourmeme.com/memes/people/chuando-tan',\n",
              " 'https://knowyourmeme.com/memes/steve--2',\n",
              " 'https://knowyourmeme.com/memes/sakanigadik',\n",
              " 'https://knowyourmeme.com/memes/subcultures/go-go-loser-ranger-sentai-daishikkaku-ranger-reject',\n",
              " 'https://knowyourmeme.com/memes/people/hubslife-day-in-the-life-of-a-middle-class-man',\n",
              " 'https://knowyourmeme.com/memes/foghorn-leghorn-rambling-speech-pattern-parodies',\n",
              " 'https://knowyourmeme.com/memes/name-100-women-challenge',\n",
              " 'https://knowyourmeme.com/memes/last-night-we-let-the-x-talk',\n",
              " 'https://knowyourmeme.com/memes/im-shaking-should-i-wear-this-to-coachella',\n",
              " 'https://knowyourmeme.com/memes/who-the-fuck-did-your-hair',\n",
              " 'https://knowyourmeme.com/memes/sites/rtechnicallythetruth-technically-the-truth',\n",
              " 'https://knowyourmeme.com/memes/events/prime-drink-forever-chemicals-lawsuit',\n",
              " 'https://knowyourmeme.com/memes/thukuna',\n",
              " 'https://knowyourmeme.com/memes/kim-jong-uns-friendly-father-song',\n",
              " 'https://knowyourmeme.com/memes/id-say-the-1830s-but-without-all-the-racists',\n",
              " 'https://knowyourmeme.com/memes/when-i-die-imma-go-to-snow-bunny-heaven']"
            ]
          },
          "metadata": {},
          "execution_count": 155
        }
      ],
      "source": [
        "meme_links = getPageLinks(1)\n",
        "meme_links"
      ]
    },
    {
      "cell_type": "code",
      "execution_count": 46,
      "metadata": {
        "ExecuteTime": {
          "end_time": "2024-04-16T05:59:17.628431Z",
          "start_time": "2024-04-16T05:59:16.533880Z"
        },
        "colab": {
          "base_uri": "https://localhost:8080/"
        },
        "id": "yhY-Yt9mDmjt",
        "outputId": "160d192f-019f-4561-eab9-3fb87bd95a0a"
      },
      "outputs": [
        {
          "output_type": "stream",
          "name": "stdout",
          "text": [
            "True\n"
          ]
        },
        {
          "output_type": "execute_result",
          "data": {
            "text/plain": [
              "['https://knowyourmeme.com/memes/that-one-korra-edit',\n",
              " 'https://knowyourmeme.com/memes/what-happens-to-a-child-who-isnt-loved-properly',\n",
              " 'https://knowyourmeme.com/memes/consider-yourself-an-opp',\n",
              " 'https://knowyourmeme.com/memes/she-knew-they-were-washed',\n",
              " 'https://knowyourmeme.com/memes/you-didnt-think-there-was-a-bubble',\n",
              " 'https://knowyourmeme.com/memes/metro-boomin-make-it-boom',\n",
              " 'https://knowyourmeme.com/memes/events/2024-dubai-rainstorm',\n",
              " 'https://knowyourmeme.com/memes/red-larva-oi-oi-oi',\n",
              " 'https://knowyourmeme.com/memes/abg-asian-baby-girl',\n",
              " 'https://knowyourmeme.com/memes/events/taylor-swifts-tortured-poets-department-leaks',\n",
              " 'https://knowyourmeme.com/memes/alice-dance',\n",
              " 'https://knowyourmeme.com/memes/atp-slang',\n",
              " 'https://knowyourmeme.com/memes/schizophrenia-update-they-added-schizophrenia',\n",
              " 'https://knowyourmeme.com/memes/bro-really-said-x',\n",
              " 'https://knowyourmeme.com/memes/steven-we-cant-both-exist',\n",
              " 'https://knowyourmeme.com/memes/hollow-knight-silksong-fans-in-clown-makeup']"
            ]
          },
          "metadata": {},
          "execution_count": 46
        }
      ],
      "source": [
        "meme_links = getPageLinks(4)\n",
        "meme_links"
      ]
    },
    {
      "cell_type": "markdown",
      "metadata": {
        "id": "C2NEGcTDDmjt"
      },
      "source": [
        "Отлично, функция работает и теперь мы теоретически можем достать все $18000$ ссылок, для чего нам нужно будет пройтись по $\\frac{18000}{16} \\approx 1125$ страницам. Прежде чем расстраивать сервер таким количеством запросов, посмотрим, как доставать всю необходимую информацию о конкретном меме."
      ]
    },
    {
      "cell_type": "markdown",
      "metadata": {
        "id": "WZ5n2AfHDmjt"
      },
      "source": [
        "# 3. Скачиваем информацию об одном меме\n",
        "\n",
        "По аналогии со ссылками можно извдечь что угодно. Для этого надо сделать несколько шагов:\n",
        "\n",
        "1. Открываем страничку с мемом\n",
        "2. Находим любым способом тег для нужной нам информации\n",
        "3. Вызываем Beautiful Soap\n",
        "4. ......\n",
        "5. Profit\n",
        "\n",
        "Извлечём число просмотров мема.\n",
        "\n",
        "<img align=\"center\" src=\"pictures/doge_main.png\">"
      ]
    },
    {
      "cell_type": "code",
      "execution_count": null,
      "metadata": {
        "ExecuteTime": {
          "end_time": "2024-04-16T05:59:37.145634Z",
          "start_time": "2024-04-16T05:59:35.632266Z"
        },
        "id": "AQRaNQCjDmjt"
      },
      "outputs": [],
      "source": [
        "meme_page = 'https://knowyourmeme.com/memes/doge'\n",
        "\n",
        "response = session.get(meme_page, headers={'User-Agent': UserAgent().chrome})\n",
        "\n",
        "html = response.content\n",
        "\n",
        "print(response)\n",
        "\n",
        "soup = BeautifulSoup(html,'html.parser')\n",
        "\n",
        "soup"
      ]
    },
    {
      "cell_type": "markdown",
      "metadata": {
        "id": "5xTLD-SJDmjt"
      },
      "source": [
        "Посмотрим, как можно извлечь статистику просмотров, комментариев, а также числа загруженных видео и фото, связанных с нашим мемом. Всё это хранится справа вверху под тэгами `\"dd\"` и с классами  `\"views\"`, `\"videos\"`, `\"photos\"` и `\"comments\"`"
      ]
    },
    {
      "cell_type": "code",
      "execution_count": 68,
      "metadata": {
        "ExecuteTime": {
          "end_time": "2024-04-16T05:59:42.658299Z",
          "start_time": "2024-04-16T05:59:42.641250Z"
        },
        "colab": {
          "base_uri": "https://localhost:8080/"
        },
        "id": "zkm_F5juDmjt",
        "outputId": "8d323c3f-e020-4448-eaaf-1fc038fc09fb"
      },
      "outputs": [
        {
          "output_type": "execute_result",
          "data": {
            "text/plain": [
              "<dd class=\"views\" title=\"14,141,322 Views\">\n",
              "<a href=\"/memes/doge\" rel=\"nofollow\">14,141,322</a>\n",
              "</dd>"
            ]
          },
          "metadata": {},
          "execution_count": 68
        }
      ],
      "source": [
        "views = soup.find('dd', attrs={'class': 'views'})\n",
        "\n",
        "views"
      ]
    },
    {
      "cell_type": "code",
      "execution_count": 69,
      "metadata": {
        "ExecuteTime": {
          "end_time": "2024-04-16T05:59:45.919503Z",
          "start_time": "2024-04-16T05:59:45.906071Z"
        },
        "colab": {
          "base_uri": "https://localhost:8080/",
          "height": 35
        },
        "id": "9sRpkGO5Dmjt",
        "outputId": "d4bc9ce3-722e-45ba-cf29-136a066a7bb4"
      },
      "outputs": [
        {
          "output_type": "execute_result",
          "data": {
            "text/plain": [
              "'14,141,322'"
            ],
            "application/vnd.google.colaboratory.intrinsic+json": {
              "type": "string"
            }
          },
          "metadata": {},
          "execution_count": 69
        }
      ],
      "source": [
        "views = views.find('a').text\n",
        "views"
      ]
    },
    {
      "cell_type": "code",
      "execution_count": 70,
      "metadata": {
        "ExecuteTime": {
          "end_time": "2024-04-16T05:59:48.278633Z",
          "start_time": "2024-04-16T05:59:48.274728Z"
        },
        "colab": {
          "base_uri": "https://localhost:8080/"
        },
        "id": "N9xpd1EbDmjt",
        "outputId": "1fb9d705-97c4-478d-d73c-781cc09acdf4"
      },
      "outputs": [
        {
          "output_type": "execute_result",
          "data": {
            "text/plain": [
              "14141322"
            ]
          },
          "metadata": {},
          "execution_count": 70
        }
      ],
      "source": [
        "views = int(views.replace(',', ''))\n",
        "views"
      ]
    },
    {
      "cell_type": "markdown",
      "metadata": {
        "id": "M0mS6hpiDmju"
      },
      "source": [
        "Напишем функцию для сбора этой статистики."
      ]
    },
    {
      "cell_type": "code",
      "execution_count": 71,
      "metadata": {
        "code_folding": [],
        "ExecuteTime": {
          "end_time": "2024-04-16T05:59:51.073222Z",
          "start_time": "2024-04-16T05:59:51.068191Z"
        },
        "id": "Exfxhn1LDmju"
      },
      "outputs": [],
      "source": [
        "def getStats(soup, stats):\n",
        "    \"\"\"\n",
        "        Возвращает очищенное число просмотров/коментариев/...\n",
        "\n",
        "        soup: объект bs4.BeautifulSoup\n",
        "            представление текущей страницы\n",
        "\n",
        "        stats: string\n",
        "            views/videos/photos/comments\n",
        "\n",
        "    \"\"\"\n",
        "    try:\n",
        "        obj = soup.find('dd', attrs={'class':stats})\n",
        "        obj = obj.find('a').text\n",
        "        obj = int(obj.replace(',', ''))\n",
        "    except:\n",
        "        obj=None\n",
        "\n",
        "    return obj"
      ]
    },
    {
      "cell_type": "code",
      "execution_count": 72,
      "metadata": {
        "ExecuteTime": {
          "end_time": "2024-04-16T05:59:54.024867Z",
          "start_time": "2024-04-16T05:59:54.003120Z"
        },
        "colab": {
          "base_uri": "https://localhost:8080/"
        },
        "id": "vMnaiv0bDmju",
        "outputId": "94498af4-fdc0-4ff9-81b8-8961ad6e7e16"
      },
      "outputs": [
        {
          "output_type": "stream",
          "name": "stdout",
          "text": [
            "Просмотры: 14141322\n",
            "Видео: 105\n",
            "Фото: 1795\n",
            "Комментарии: 924\n"
          ]
        }
      ],
      "source": [
        "views = getStats(soup, stats='views')\n",
        "videos = getStats(soup, stats='videos')\n",
        "photos = getStats(soup, stats='photos')\n",
        "comments = getStats(soup, stats='comments')\n",
        "\n",
        "print(\"Просмотры: {}\\nВидео: {}\\nФото: {}\\nКомментарии: {}\".format(views, videos, photos, comments))"
      ]
    },
    {
      "cell_type": "markdown",
      "metadata": {
        "id": "63PuWJF0Dmju"
      },
      "source": [
        "Еще из интересного и исследовательского —  достанем дату и время добавления мема. Если посмотреть на страницу в браузере, можно подумать, что максимум информации, который мы можем извлечь - это число лет, прошедших с момента публикации —  `Added 4 years ago by NovaXP`. Однако мы так просто сдаваться не будем, посмотрим что в html-коде страницы отвечает за эту надпись:\n",
        "\n",
        "<img align=\"center\" src=\"pictures/html_time_ago.png\" >\n",
        "\n",
        "Ага! Вот и подробности по дате добавления, с точностью до минуты."
      ]
    },
    {
      "cell_type": "code",
      "execution_count": 74,
      "metadata": {
        "ExecuteTime": {
          "end_time": "2024-04-16T05:59:57.856873Z",
          "start_time": "2024-04-16T05:59:57.848810Z"
        },
        "colab": {
          "base_uri": "https://localhost:8080/",
          "height": 35
        },
        "id": "7ROTSx0sDmju",
        "outputId": "e6eff87d-e792-4f84-9072-a3ae181ba5eb"
      },
      "outputs": [
        {
          "output_type": "execute_result",
          "data": {
            "text/plain": [
              "'2023-11-01T14:25:11-04:00'"
            ],
            "application/vnd.google.colaboratory.intrinsic+json": {
              "type": "string"
            }
          },
          "metadata": {},
          "execution_count": 74
        }
      ],
      "source": [
        "date = soup.find('abbr', attrs={'class':'timeago'}).attrs['title']\n",
        "date"
      ]
    },
    {
      "cell_type": "markdown",
      "metadata": {
        "id": "lDEUhNiyDmju"
      },
      "source": [
        "На самом деле, парсеры — дело непредсказуемое. Часто страницы, которые мы парсим, имеют очень неоднородну структуру. Например, если мы парсим мемы, на части страниц может быть указано описание, а на части нет.\n",
        "\n",
        "Как только код впервые встречается с отсутствием описания, он выдаёт ошибку и останавливается. Чтобы нормально собрать все данные, приходится [прописывать исключения.](https://pythonworld.ru/tipy-dannyx-v-python/isklyucheniya-v-python-konstrukciya-try-except-dlya-obrabotki-isklyuchenij.html) Для этого используют  конструкцию `try - except`\n",
        "\n",
        "Например, мы хотим извлечь статус мема, для этого найдем окружающие его тэги:"
      ]
    },
    {
      "cell_type": "code",
      "execution_count": 82,
      "metadata": {
        "ExecuteTime": {
          "end_time": "2024-04-16T05:59:59.826929Z",
          "start_time": "2024-04-16T05:59:59.813686Z"
        },
        "id": "1gDvfGMEDmju"
      },
      "outputs": [],
      "source": [
        "properties = soup.find('aside', attrs={'class':'left'})\n",
        "\n",
        "meme_status = properties.dd"
      ]
    },
    {
      "cell_type": "code",
      "execution_count": 83,
      "metadata": {
        "ExecuteTime": {
          "end_time": "2024-04-16T06:00:01.913428Z",
          "start_time": "2024-04-16T06:00:01.902702Z"
        },
        "colab": {
          "base_uri": "https://localhost:8080/"
        },
        "id": "EuWDlUwJDmju",
        "outputId": "0aaf4473-5819-417f-d5ea-346f0c19cf8f"
      },
      "outputs": [
        {
          "output_type": "execute_result",
          "data": {
            "text/plain": [
              "<dd>\n",
              "Confirmed\n",
              "</dd>"
            ]
          },
          "metadata": {},
          "execution_count": 83
        }
      ],
      "source": [
        "meme_status"
      ]
    },
    {
      "cell_type": "markdown",
      "metadata": {
        "id": "9YQnywa2Dmju"
      },
      "source": [
        "Дальше нужно извлечь из тэгов текст и убрать лишние пробелы."
      ]
    },
    {
      "cell_type": "code",
      "execution_count": 84,
      "metadata": {
        "ExecuteTime": {
          "end_time": "2024-04-16T06:00:05.926340Z",
          "start_time": "2024-04-16T06:00:05.906035Z"
        },
        "colab": {
          "base_uri": "https://localhost:8080/",
          "height": 35
        },
        "id": "0ZMZ1fAODmju",
        "outputId": "900f4f3d-eda7-43c4-d9db-dc04fc065499"
      },
      "outputs": [
        {
          "output_type": "execute_result",
          "data": {
            "text/plain": [
              "'Confirmed'"
            ],
            "application/vnd.google.colaboratory.intrinsic+json": {
              "type": "string"
            }
          },
          "metadata": {},
          "execution_count": 84
        }
      ],
      "source": [
        "meme_status.text.strip()"
      ]
    },
    {
      "cell_type": "markdown",
      "metadata": {
        "id": "i0RcPI-tDmju"
      },
      "source": [
        "Однако, если неожиданно выяснится, что у мема нет статуса, метод `find` вернёт пустоту. Метод `text`, в свою очередь, не сможет найти в тэгах текст и выдаст ошибку. Чтобы обезопасить себя от таких пустот, можно прописать исключение или `if - else`. Так как в текущем меме статус все-таки есть, нарочно зададим его как пустой объект, чтобы проверить, что ошибка поймается в обоих случаях"
      ]
    },
    {
      "cell_type": "code",
      "execution_count": 85,
      "metadata": {
        "ExecuteTime": {
          "end_time": "2024-04-16T06:00:08.397634Z",
          "start_time": "2024-04-16T06:00:08.385969Z"
        },
        "colab": {
          "base_uri": "https://localhost:8080/"
        },
        "id": "ib4iVJtgDmju",
        "outputId": "1902ba7a-36e3-4f56-fa87-af3dd3b03b44"
      },
      "outputs": [
        {
          "output_type": "stream",
          "name": "stdout",
          "text": [
            "Exception\n",
            "Empty\n"
          ]
        }
      ],
      "source": [
        "# Делай раз! Ищем статус мема, но не находим его\n",
        "meme_status = None\n",
        "\n",
        "# Делай два! Пытаемся извлечь его...\n",
        "\n",
        "# ... с исключениями\n",
        "try:\n",
        "    print(meme_status.text.strip())\n",
        "# Если возникает ошибка, статус не найден, выдаём пустоту.\n",
        "except:\n",
        "    print(\"Exception\")\n",
        "\n",
        "\n",
        "# ... с проверкой на пустой элемент\n",
        "if meme_status:\n",
        "    print(meme_status.text.strip())\n",
        "else:\n",
        "    print(\"Empty\")"
      ]
    },
    {
      "cell_type": "markdown",
      "metadata": {
        "id": "8bf3grc7Dmjv"
      },
      "source": [
        "Такой код позволяет обезопасить себя от ошибок во время работы кода."
      ]
    },
    {
      "cell_type": "code",
      "execution_count": 86,
      "metadata": {
        "ExecuteTime": {
          "end_time": "2024-04-16T06:00:11.933066Z",
          "start_time": "2024-04-16T06:00:11.921721Z"
        },
        "colab": {
          "base_uri": "https://localhost:8080/"
        },
        "id": "-GR6iTNNDmjv",
        "outputId": "476cb820-1b69-42c8-8332-190d2544dd7b"
      },
      "outputs": [
        {
          "output_type": "stream",
          "name": "stdout",
          "text": [
            "Confirmed\n"
          ]
        }
      ],
      "source": [
        "properties = soup.find('aside', attrs={'class':'left'})\n",
        "meme_status = properties.find(\"dd\")\n",
        "\n",
        "meme_status = \"Empty\" if not meme_status else meme_status.text.strip()\n",
        "print(meme_status)"
      ]
    },
    {
      "cell_type": "markdown",
      "metadata": {
        "id": "WjsDgWjWDmjv"
      },
      "source": [
        "По аналогии можно извлечь всю остальную информацию со страницы."
      ]
    },
    {
      "cell_type": "code",
      "execution_count": 128,
      "metadata": {
        "code_folding": [],
        "ExecuteTime": {
          "end_time": "2024-04-16T06:00:13.800292Z",
          "start_time": "2024-04-16T06:00:13.790938Z"
        },
        "id": "9abFNL7-Dmjv"
      },
      "outputs": [],
      "source": [
        "def getProperties(soup):\n",
        "    \"\"\"\n",
        "        Возвращает список (tuple) с названием, статусом, типом,\n",
        "        годом и местом происхождения и тэгами\n",
        "\n",
        "        soup: объект bs4.BeautifulSoup\n",
        "            представление текущей страницы\n",
        "\n",
        "    \"\"\"\n",
        "    # название - идёт с самым большим заголовком h1, легко найти\n",
        "    meme_name = soup.find('section', attrs={'class':'info wide'})\n",
        "    meme_name = '' if not meme_name else meme_name.find('h1').text.strip()\n",
        "\n",
        "    # достаём все данные справа от картинки\n",
        "    properties = soup.find('aside', attrs={'class':'left'})\n",
        "\n",
        "    # статус идет первым - можно не уточнять класс\n",
        "    meme_status = None if not properties else properties.find(\"dd\")\n",
        "\n",
        "    # oneliner, заменяющий try-except: если тэга нет в properties, вернётся объект NoneType,\n",
        "    # у которого аттрибут text отсутствует, и в этом случае он заменится на пустую строку\n",
        "    meme_status = \"\" if not meme_status else meme_status.text.strip()\n",
        "\n",
        "    # тип мема - обладает уникальным классом\n",
        "    meme_type = None if not properties else properties.findAll('a', attrs={'class':'entry-type-link'})\n",
        "    meme_type = \"\" if not meme_type else \", \".join([t.text for t in meme_type])\n",
        "\n",
        "    # год происхождения первоисточника можно найти после заголовка Year,\n",
        "    # находим заголовок, определяем родителя и ищем следущего ребенка - наш раздел\n",
        "    meme_origin_year = None if not properties else properties.find(string='\\nYear\\n')\n",
        "    meme_origin_year = \"\" if not meme_origin_year else meme_origin_year.parent.find_next().text.strip()\n",
        "\n",
        "    # сам первоисточник\n",
        "    meme_origin_place = None if not properties else properties.find('dd', attrs={'class':'entry_origin_link'})\n",
        "    meme_origin_place = \"\" if not meme_origin_place else meme_origin_place.text.strip()\n",
        "\n",
        "    # тэги, связанные с мемом\n",
        "    meme_tags = None if not properties else properties.find('dl', attrs={'id':'entry_tags'}).find('dd')\n",
        "    meme_tags = \"\" if not meme_tags else meme_tags.text.strip()\n",
        "\n",
        "    return meme_name, meme_status, meme_type, meme_origin_year, meme_origin_place, meme_tags"
      ]
    },
    {
      "cell_type": "code",
      "execution_count": 91,
      "metadata": {
        "ExecuteTime": {
          "end_time": "2024-04-16T06:00:17.264352Z",
          "start_time": "2024-04-16T06:00:17.253862Z"
        },
        "colab": {
          "base_uri": "https://localhost:8080/"
        },
        "id": "tqd2E_QVDmjv",
        "outputId": "9fd91790-a12b-40cc-dd90-6ed5d613e692"
      },
      "outputs": [
        {
          "output_type": "execute_result",
          "data": {
            "text/plain": [
              "('Doge',\n",
              " 'Confirmed',\n",
              " 'Animal, Character, Exploitable, Image Macro, Slang',\n",
              " '2010',\n",
              " 'Tumblr',\n",
              " 'animal, dog, shiba inu, shibe, such doge, super shibe, japanese, tumblr, comic sans, photoshop meme, doges, dogges, reddit, bitcoin, dogecoin, canine, doge meme, atsuko sato, kabosu, doge memes, dogelore, kabosumama')"
            ]
          },
          "metadata": {},
          "execution_count": 91
        }
      ],
      "source": [
        "getProperties(soup)"
      ]
    },
    {
      "cell_type": "markdown",
      "metadata": {
        "id": "OSptnkeADmjw"
      },
      "source": [
        "Свойства мема собрали. Теперь собираем по аналогии его текстовое описание."
      ]
    },
    {
      "cell_type": "code",
      "execution_count": 135,
      "metadata": {
        "code_folding": [],
        "ExecuteTime": {
          "end_time": "2024-04-16T06:00:21.302682Z",
          "start_time": "2024-04-16T06:00:21.292483Z"
        },
        "id": "gS-bfJysDmjw"
      },
      "outputs": [],
      "source": [
        "def getText(soup):\n",
        "    \"\"\"\n",
        "        Возвращает текстовые описания мема\n",
        "\n",
        "        soup: объект bs4.BeautifulSoup\n",
        "            представление текущей страницы\n",
        "\n",
        "    \"\"\"\n",
        "\n",
        "    # достаём все тексты под картинкой\n",
        "    body = soup.find('section', attrs={'class':'bodycopy'})\n",
        "\n",
        "    # раздел about (если он есть), должен идти первым, берем его без уточнения класса\n",
        "    meme_about = None if not body else body.find('p')\n",
        "    meme_about = \"\" if not meme_about else meme_about.text\n",
        "\n",
        "    # раздел origin можно найти после заголовка Origin или History,\n",
        "    # находим заголовок, определяем родителя и ищем следущего ребенка - наш раздел\n",
        "    meme_origin = None if not body else body.find(string='Origin') or body.find(string='History')\n",
        "    meme_origin = \"\" if not meme_origin else meme_origin.parent.find_next().text\n",
        "\n",
        "    # весь остальной текст (если он есть) можно положить в одно текстовое поле\n",
        "\n",
        "    if body and body.text:\n",
        "        other_text = body.text.strip().split('\\n')[4:]\n",
        "        other_text = \" \".join(other_text).strip()\n",
        "    else:\n",
        "        other_text = \"\"\n",
        "\n",
        "    return meme_about, meme_origin, other_text"
      ]
    },
    {
      "cell_type": "code",
      "execution_count": 94,
      "metadata": {
        "ExecuteTime": {
          "end_time": "2024-04-16T06:00:24.435424Z",
          "start_time": "2024-04-16T06:00:24.422666Z"
        },
        "colab": {
          "base_uri": "https://localhost:8080/"
        },
        "id": "P2g_BOAxDmjw",
        "outputId": "b90726a2-650e-4379-a0ea-7e9f6d83591d"
      },
      "outputs": [
        {
          "output_type": "stream",
          "name": "stdout",
          "text": [
            "О чем мем:\n",
            "Doge (pronounced /ˈdoʊdʒ/ DOHJ) is a slang term for \"dog\" that is primarily associated with pictures of Shiba Inus (nicknamed \"Shibe\") and internal monologue captions on Tumblr. These photos may be photoshopped to change the dog's face or captioned with interior monologues in Comic Sans font. The primary meme and iconography associated with Doge is the Shiba Inu named Kabosu, whose photos taken by her owner Atsuko Sato in early 2010 went viral across the internet, spawning numerous memes and larger trends in the following decades. Starting in 2017, Ironic Doge formats gained prevalence over the original wholesome version as the memetic character continued to evolve.\n",
            "\n",
            "Происхождение:\n",
            "The use of the misspelled word \"doge\" to refer to a dog dates back to June 24th, 2005, when it was mentioned in an episode of Homestar Runner's puppet show. In the episode titled \"Biz Cas Fri 1\"[2], Homestar calls Strong Bad his \"d-o-g-e\" while trying to distract him from his work.\n",
            "\n",
            "Остальной текст:\n",
            "The use of the misspelled word \"doge\" to refer to a dog dates back to June 24th, 2005, when it was mentioned in an episode of Homestar Runner's puppet show. In the episode titled \"Biz Cas Fri 1\"[2], H...\n",
            "\n"
          ]
        }
      ],
      "source": [
        "meme_about, meme_origin, other_text = getText(soup)\n",
        "\n",
        "print(\"О чем мем:\\n{}\\n\\nПроисхождение:\\n{}\\n\\nОстальной текст:\\n{}...\\n\"\\\n",
        "      .format(meme_about, meme_origin, other_text[:200]))"
      ]
    },
    {
      "cell_type": "markdown",
      "metadata": {
        "id": "t082FWl1Dmjw"
      },
      "source": [
        "Наконец, создадим функцию, возвращающую всю информацию по текущему мему"
      ]
    },
    {
      "cell_type": "code",
      "execution_count": 177,
      "metadata": {
        "code_folding": [],
        "ExecuteTime": {
          "end_time": "2024-04-16T06:00:54.673381Z",
          "start_time": "2024-04-16T06:00:54.656178Z"
        },
        "id": "cbxV42yODmjw"
      },
      "outputs": [],
      "source": [
        "def getMemeData(meme_page):\n",
        "    \"\"\"\n",
        "        Запрашивает данные по странице, возвращает обработанный словарь с данными\n",
        "\n",
        "        meme_page: string\n",
        "            ссылка на страницу с мемом\n",
        "\n",
        "    \"\"\"\n",
        "\n",
        "    # запрашиваем данные по ссылке\n",
        "    response = session.get(meme_page, headers={'User-Agent': UserAgent().chrome})\n",
        "\n",
        "    print(response)\n",
        "    if not response.ok:\n",
        "        # если сервер нам отказал, вернем статус ошибки\n",
        "        return response.status_code\n",
        "\n",
        "    # получаем содержимое страницы\n",
        "    html = response.content\n",
        "    soup = BeautifulSoup(html,'html.parser')\n",
        "\n",
        "    # используя ранее написанные функции парсим информацию\n",
        "    views = getStats(soup=soup, stats='views')\n",
        "    videos = getStats(soup=soup, stats='videos')\n",
        "    photos = getStats(soup=soup, stats='photos')\n",
        "    comments = getStats(soup=soup, stats='comments')\n",
        "\n",
        "    # дата\n",
        "    date = soup.find('abbr', attrs={'class':'timeago'})\n",
        "    date = \"\" if not date else date.title\n",
        "\n",
        "    # имя, статус, и т.д.\n",
        "    meme_name, meme_status, meme_type, meme_origin_year, meme_origin_place, meme_tags = getProperties(soup=soup)\n",
        "\n",
        "    # текстовые поля\n",
        "    meme_about, meme_origin, other_text = getText(soup=soup)\n",
        "\n",
        "    # составляем словарь, в котором будут хранится все полученные и обработанные данные\n",
        "    data_row = {\"name\":meme_name, \"status\":meme_status,\n",
        "                \"type\":meme_type, \"origin_year\":meme_origin_year,\n",
        "                \"origin_place\":meme_origin_place,\n",
        "                \"date_added\":date, \"views\":views,\n",
        "                \"videos\":videos, \"photos\":photos, \"comments\":comments, \"tags\":meme_tags,\n",
        "                \"about\":meme_about, \"origin\":meme_origin, \"other_text\":other_text}\n",
        "\n",
        "\n",
        "    print(data_row)\n",
        "\n",
        "    return data_row"
      ]
    },
    {
      "cell_type": "code",
      "execution_count": 179,
      "metadata": {
        "ExecuteTime": {
          "end_time": "2024-04-16T06:01:14.011755Z",
          "start_time": "2024-04-16T06:01:04.935550Z"
        },
        "colab": {
          "base_uri": "https://localhost:8080/"
        },
        "id": "ZZBexvdJDmjw",
        "outputId": "cfc00d2e-7aa5-48e8-be1a-dc28a07b05d4"
      },
      "outputs": [
        {
          "output_type": "stream",
          "name": "stdout",
          "text": [
            "<Response [200]>\n",
            "{'name': 'Ayumu Kasuga (Osaka)', 'status': 'Confirmed', 'type': 'Character', 'origin_year': '1999', 'origin_place': 'Azumanga Daioh', 'date_added': None, 'views': 107980, 'videos': 1, 'photos': 86, 'comments': 13, 'tags': 'anime, osaka, manga, azumanga daioh, osaker', 'about': 'Ayumu Kasuga is a fictional high school character from manga and anime series Azumanga Daioh. She is often called by the nickname Osaka by her friends, the city Ayumu from which she transferred. She is also known in memes as Osaker after a resurgence in popularity in 2023. She and the show have been the subject of several memes in the 2010s and 2020s.', 'origin': 'Between March and April of 1999, the second chapter of the Azumanga Daioh manga series debuted in Gekkan Komikku Dengeki Daioh magazine.[1] In part 1 of the chapter, Ayumu is introduced as a transfer student from Osaka (shown below).', 'other_text': 'Between March and April of 1999, the second chapter of the Azumanga Daioh manga series debuted in Gekkan Komikku Dengeki Daioh magazine.[1] In part 1 of the chapter, Ayumu is introduced as a transfer student from Osaka (shown below).          Spread The memes related to her started gaining popularity in the 2020s. For example on April 21st, 2023, Twitter / X[2] user @rytuwil uploaded fan art of Osaka based on the Say the Line, Bart! meme. The post received over 800 reposts and 5,800 likes in nine months (shown below). On July 2023, X[3] user @StreetPassSaji uploaded Osaka fan art based on the Now We Are Homeress meme. The post was deleted (shown below, right).     Related Memes Osaka Shoe Kick Osaka Shoe Kick refers to a scene taken from the sixth episode of Azumanga Daioh wherein Ayumu \"Osaka\" Kasuga, a dim-witted character in the series, kicks her shoe off as a means to foretell the weather and has it accidentally fall on top of a truck that quickly drives away. This scene has been parodied in many different ways with something surprising happening to the shoe as it falls back down to the ground (examples shown below).     Hello Everynyan / OH MY GAH Hello Everynyan, also known as OH MY GAH, refers to a humorous scene and viral video in which Chiyo-chichi from Azumanga Daioh meets Ayumu Kasuga (also known as Osaka) and attempts to greet her in broken English. The scene became popular years after the episode aired, as many social media users have shared, parodied and re-enacted it (examples shown below).     Osaka \"Sata Andagi!\" Osaka \\'Sata Andagi!\\' refers to a scene from episode 21 of the anime series Azumanga Daioh in which Ayumu \"Osaka\" Kasuga excitedly and repeatedly says \"sata andagi\" while holding sata andagi. Sata andagi is a type of deep-fried bun similar to a doughnut. The episode originally aired in 2002 and became the subject of edits and memes throughout the 2000s. In October 2023, memes using the clip became popularized on TikTok after the release of the song \"fwyb\" by Juanono!, which prominently features the audio clip of Osaka saying \"sata andagi\" (examples shown below).     \"Who Can It Be Now?\" Osaka \\'Who Can It Be Now?\\' Osaka refers to a series of videos and fan art drawings that show Azumanga Daioh character Ayumu \\'Osaka\\' Kasuga dancing and playing the saxophone with the song \"Who Can It Be Now?\" by Men at Work. The videos were posted on Instagram and TikTok in early 2024, predominantly made in Roblox (examples shown below).  https://www.tiktok.com/embed/v2/7327539646320233733 https://www.tiktok.com/embed/v2/7329560944185625902  Search Interest  External References  [1] Fandom – Chapter 02 [2] X – i am sure they were expecting a different response [3] X – @StreetPassSaji [deleted]'}\n"
          ]
        }
      ],
      "source": [
        "data_row = getMemeData('https://knowyourmeme.com/memes/ayumu-kasuga-osaka')"
      ]
    },
    {
      "cell_type": "markdown",
      "metadata": {
        "id": "zORN5x_wDmjw"
      },
      "source": [
        "А теперь подготовим табличку, чтобы в неё записывать все данные, добавим в неё первую полученную строку."
      ]
    },
    {
      "cell_type": "code",
      "execution_count": 173,
      "metadata": {
        "id": "t9zcbxKkDmjw"
      },
      "outputs": [],
      "source": [
        "final_df = pd.DataFrame(columns=['name', 'status', 'type', 'origin_year', 'origin_place',\n",
        "                                 'date_added', 'views', 'videos', 'photos', 'comments',\n",
        "                                 'tags', 'about', 'origin', 'other_text'])"
      ]
    },
    {
      "cell_type": "code",
      "execution_count": 174,
      "metadata": {
        "colab": {
          "base_uri": "https://localhost:8080/",
          "height": 114
        },
        "id": "4U90LTJXDmjw",
        "outputId": "6cb9787e-9048-491f-bfec-2acef9e7a22a"
      },
      "outputs": [
        {
          "output_type": "execute_result",
          "data": {
            "text/plain": [
              "                   name     status       type origin_year    origin_place  \\\n",
              "0  Ayumu Kasuga (Osaka)  Confirmed  Character        1999  Azumanga Daioh   \n",
              "\n",
              "  date_added   views videos photos comments  \\\n",
              "0       None  107980      1     86       13   \n",
              "\n",
              "                                          tags  \\\n",
              "0  anime, osaka, manga, azumanga daioh, osaker   \n",
              "\n",
              "                                               about  \\\n",
              "0  Ayumu Kasuga is a fictional high school charac...   \n",
              "\n",
              "                                              origin  \\\n",
              "0  Between March and April of 1999, the second ch...   \n",
              "\n",
              "                                          other_text  \n",
              "0  Between March and April of 1999, the second ch...  "
            ],
            "text/html": [
              "\n",
              "  <div id=\"df-9e92d38c-f3f3-4db9-abdf-864e51271221\" class=\"colab-df-container\">\n",
              "    <div>\n",
              "<style scoped>\n",
              "    .dataframe tbody tr th:only-of-type {\n",
              "        vertical-align: middle;\n",
              "    }\n",
              "\n",
              "    .dataframe tbody tr th {\n",
              "        vertical-align: top;\n",
              "    }\n",
              "\n",
              "    .dataframe thead th {\n",
              "        text-align: right;\n",
              "    }\n",
              "</style>\n",
              "<table border=\"1\" class=\"dataframe\">\n",
              "  <thead>\n",
              "    <tr style=\"text-align: right;\">\n",
              "      <th></th>\n",
              "      <th>name</th>\n",
              "      <th>status</th>\n",
              "      <th>type</th>\n",
              "      <th>origin_year</th>\n",
              "      <th>origin_place</th>\n",
              "      <th>date_added</th>\n",
              "      <th>views</th>\n",
              "      <th>videos</th>\n",
              "      <th>photos</th>\n",
              "      <th>comments</th>\n",
              "      <th>tags</th>\n",
              "      <th>about</th>\n",
              "      <th>origin</th>\n",
              "      <th>other_text</th>\n",
              "    </tr>\n",
              "  </thead>\n",
              "  <tbody>\n",
              "    <tr>\n",
              "      <th>0</th>\n",
              "      <td>Ayumu Kasuga (Osaka)</td>\n",
              "      <td>Confirmed</td>\n",
              "      <td>Character</td>\n",
              "      <td>1999</td>\n",
              "      <td>Azumanga Daioh</td>\n",
              "      <td>None</td>\n",
              "      <td>107980</td>\n",
              "      <td>1</td>\n",
              "      <td>86</td>\n",
              "      <td>13</td>\n",
              "      <td>anime, osaka, manga, azumanga daioh, osaker</td>\n",
              "      <td>Ayumu Kasuga is a fictional high school charac...</td>\n",
              "      <td>Between March and April of 1999, the second ch...</td>\n",
              "      <td>Between March and April of 1999, the second ch...</td>\n",
              "    </tr>\n",
              "  </tbody>\n",
              "</table>\n",
              "</div>\n",
              "    <div class=\"colab-df-buttons\">\n",
              "\n",
              "  <div class=\"colab-df-container\">\n",
              "    <button class=\"colab-df-convert\" onclick=\"convertToInteractive('df-9e92d38c-f3f3-4db9-abdf-864e51271221')\"\n",
              "            title=\"Convert this dataframe to an interactive table.\"\n",
              "            style=\"display:none;\">\n",
              "\n",
              "  <svg xmlns=\"http://www.w3.org/2000/svg\" height=\"24px\" viewBox=\"0 -960 960 960\">\n",
              "    <path d=\"M120-120v-720h720v720H120Zm60-500h600v-160H180v160Zm220 220h160v-160H400v160Zm0 220h160v-160H400v160ZM180-400h160v-160H180v160Zm440 0h160v-160H620v160ZM180-180h160v-160H180v160Zm440 0h160v-160H620v160Z\"/>\n",
              "  </svg>\n",
              "    </button>\n",
              "\n",
              "  <style>\n",
              "    .colab-df-container {\n",
              "      display:flex;\n",
              "      gap: 12px;\n",
              "    }\n",
              "\n",
              "    .colab-df-convert {\n",
              "      background-color: #E8F0FE;\n",
              "      border: none;\n",
              "      border-radius: 50%;\n",
              "      cursor: pointer;\n",
              "      display: none;\n",
              "      fill: #1967D2;\n",
              "      height: 32px;\n",
              "      padding: 0 0 0 0;\n",
              "      width: 32px;\n",
              "    }\n",
              "\n",
              "    .colab-df-convert:hover {\n",
              "      background-color: #E2EBFA;\n",
              "      box-shadow: 0px 1px 2px rgba(60, 64, 67, 0.3), 0px 1px 3px 1px rgba(60, 64, 67, 0.15);\n",
              "      fill: #174EA6;\n",
              "    }\n",
              "\n",
              "    .colab-df-buttons div {\n",
              "      margin-bottom: 4px;\n",
              "    }\n",
              "\n",
              "    [theme=dark] .colab-df-convert {\n",
              "      background-color: #3B4455;\n",
              "      fill: #D2E3FC;\n",
              "    }\n",
              "\n",
              "    [theme=dark] .colab-df-convert:hover {\n",
              "      background-color: #434B5C;\n",
              "      box-shadow: 0px 1px 3px 1px rgba(0, 0, 0, 0.15);\n",
              "      filter: drop-shadow(0px 1px 2px rgba(0, 0, 0, 0.3));\n",
              "      fill: #FFFFFF;\n",
              "    }\n",
              "  </style>\n",
              "\n",
              "    <script>\n",
              "      const buttonEl =\n",
              "        document.querySelector('#df-9e92d38c-f3f3-4db9-abdf-864e51271221 button.colab-df-convert');\n",
              "      buttonEl.style.display =\n",
              "        google.colab.kernel.accessAllowed ? 'block' : 'none';\n",
              "\n",
              "      async function convertToInteractive(key) {\n",
              "        const element = document.querySelector('#df-9e92d38c-f3f3-4db9-abdf-864e51271221');\n",
              "        const dataTable =\n",
              "          await google.colab.kernel.invokeFunction('convertToInteractive',\n",
              "                                                    [key], {});\n",
              "        if (!dataTable) return;\n",
              "\n",
              "        const docLinkHtml = 'Like what you see? Visit the ' +\n",
              "          '<a target=\"_blank\" href=https://colab.research.google.com/notebooks/data_table.ipynb>data table notebook</a>'\n",
              "          + ' to learn more about interactive tables.';\n",
              "        element.innerHTML = '';\n",
              "        dataTable['output_type'] = 'display_data';\n",
              "        await google.colab.output.renderOutput(dataTable, element);\n",
              "        const docLink = document.createElement('div');\n",
              "        docLink.innerHTML = docLinkHtml;\n",
              "        element.appendChild(docLink);\n",
              "      }\n",
              "    </script>\n",
              "  </div>\n",
              "\n",
              "    </div>\n",
              "  </div>\n"
            ],
            "application/vnd.google.colaboratory.intrinsic+json": {
              "type": "dataframe",
              "repr_error": "Out of range float values are not JSON compliant: nan"
            }
          },
          "metadata": {},
          "execution_count": 174
        }
      ],
      "source": [
        "final_df._append(data_row, ignore_index=True)"
      ]
    },
    {
      "cell_type": "code",
      "execution_count": 176,
      "metadata": {
        "colab": {
          "base_uri": "https://localhost:8080/",
          "height": 53
        },
        "id": "iEtwdCEEDmjw",
        "outputId": "97c3d22b-f81c-4e3f-a91d-db620f858b40"
      },
      "outputs": [
        {
          "output_type": "execute_result",
          "data": {
            "text/plain": [
              "Empty DataFrame\n",
              "Columns: [name, status, type, origin_year, origin_place, date_added, views, videos, photos, comments, tags, about, origin, other_text]\n",
              "Index: []"
            ],
            "text/html": [
              "\n",
              "  <div id=\"df-5975c24a-03d2-4c22-b071-12e0822af1a8\" class=\"colab-df-container\">\n",
              "    <div>\n",
              "<style scoped>\n",
              "    .dataframe tbody tr th:only-of-type {\n",
              "        vertical-align: middle;\n",
              "    }\n",
              "\n",
              "    .dataframe tbody tr th {\n",
              "        vertical-align: top;\n",
              "    }\n",
              "\n",
              "    .dataframe thead th {\n",
              "        text-align: right;\n",
              "    }\n",
              "</style>\n",
              "<table border=\"1\" class=\"dataframe\">\n",
              "  <thead>\n",
              "    <tr style=\"text-align: right;\">\n",
              "      <th></th>\n",
              "      <th>name</th>\n",
              "      <th>status</th>\n",
              "      <th>type</th>\n",
              "      <th>origin_year</th>\n",
              "      <th>origin_place</th>\n",
              "      <th>date_added</th>\n",
              "      <th>views</th>\n",
              "      <th>videos</th>\n",
              "      <th>photos</th>\n",
              "      <th>comments</th>\n",
              "      <th>tags</th>\n",
              "      <th>about</th>\n",
              "      <th>origin</th>\n",
              "      <th>other_text</th>\n",
              "    </tr>\n",
              "  </thead>\n",
              "  <tbody>\n",
              "  </tbody>\n",
              "</table>\n",
              "</div>\n",
              "    <div class=\"colab-df-buttons\">\n",
              "\n",
              "  <div class=\"colab-df-container\">\n",
              "    <button class=\"colab-df-convert\" onclick=\"convertToInteractive('df-5975c24a-03d2-4c22-b071-12e0822af1a8')\"\n",
              "            title=\"Convert this dataframe to an interactive table.\"\n",
              "            style=\"display:none;\">\n",
              "\n",
              "  <svg xmlns=\"http://www.w3.org/2000/svg\" height=\"24px\" viewBox=\"0 -960 960 960\">\n",
              "    <path d=\"M120-120v-720h720v720H120Zm60-500h600v-160H180v160Zm220 220h160v-160H400v160Zm0 220h160v-160H400v160ZM180-400h160v-160H180v160Zm440 0h160v-160H620v160ZM180-180h160v-160H180v160Zm440 0h160v-160H620v160Z\"/>\n",
              "  </svg>\n",
              "    </button>\n",
              "\n",
              "  <style>\n",
              "    .colab-df-container {\n",
              "      display:flex;\n",
              "      gap: 12px;\n",
              "    }\n",
              "\n",
              "    .colab-df-convert {\n",
              "      background-color: #E8F0FE;\n",
              "      border: none;\n",
              "      border-radius: 50%;\n",
              "      cursor: pointer;\n",
              "      display: none;\n",
              "      fill: #1967D2;\n",
              "      height: 32px;\n",
              "      padding: 0 0 0 0;\n",
              "      width: 32px;\n",
              "    }\n",
              "\n",
              "    .colab-df-convert:hover {\n",
              "      background-color: #E2EBFA;\n",
              "      box-shadow: 0px 1px 2px rgba(60, 64, 67, 0.3), 0px 1px 3px 1px rgba(60, 64, 67, 0.15);\n",
              "      fill: #174EA6;\n",
              "    }\n",
              "\n",
              "    .colab-df-buttons div {\n",
              "      margin-bottom: 4px;\n",
              "    }\n",
              "\n",
              "    [theme=dark] .colab-df-convert {\n",
              "      background-color: #3B4455;\n",
              "      fill: #D2E3FC;\n",
              "    }\n",
              "\n",
              "    [theme=dark] .colab-df-convert:hover {\n",
              "      background-color: #434B5C;\n",
              "      box-shadow: 0px 1px 3px 1px rgba(0, 0, 0, 0.15);\n",
              "      filter: drop-shadow(0px 1px 2px rgba(0, 0, 0, 0.3));\n",
              "      fill: #FFFFFF;\n",
              "    }\n",
              "  </style>\n",
              "\n",
              "    <script>\n",
              "      const buttonEl =\n",
              "        document.querySelector('#df-5975c24a-03d2-4c22-b071-12e0822af1a8 button.colab-df-convert');\n",
              "      buttonEl.style.display =\n",
              "        google.colab.kernel.accessAllowed ? 'block' : 'none';\n",
              "\n",
              "      async function convertToInteractive(key) {\n",
              "        const element = document.querySelector('#df-5975c24a-03d2-4c22-b071-12e0822af1a8');\n",
              "        const dataTable =\n",
              "          await google.colab.kernel.invokeFunction('convertToInteractive',\n",
              "                                                    [key], {});\n",
              "        if (!dataTable) return;\n",
              "\n",
              "        const docLinkHtml = 'Like what you see? Visit the ' +\n",
              "          '<a target=\"_blank\" href=https://colab.research.google.com/notebooks/data_table.ipynb>data table notebook</a>'\n",
              "          + ' to learn more about interactive tables.';\n",
              "        element.innerHTML = '';\n",
              "        dataTable['output_type'] = 'display_data';\n",
              "        await google.colab.output.renderOutput(dataTable, element);\n",
              "        const docLink = document.createElement('div');\n",
              "        docLink.innerHTML = docLinkHtml;\n",
              "        element.appendChild(docLink);\n",
              "      }\n",
              "    </script>\n",
              "  </div>\n",
              "\n",
              "    </div>\n",
              "  </div>\n"
            ],
            "application/vnd.google.colaboratory.intrinsic+json": {
              "type": "dataframe",
              "variable_name": "final_df",
              "repr_error": "Out of range float values are not JSON compliant: nan"
            }
          },
          "metadata": {},
          "execution_count": 176
        }
      ],
      "source": [
        "final_df"
      ]
    },
    {
      "cell_type": "markdown",
      "metadata": {
        "id": "j4aZfnDTDmjx"
      },
      "source": [
        "Ещё раз убедимся что всё работает."
      ]
    },
    {
      "cell_type": "code",
      "execution_count": 141,
      "metadata": {
        "id": "Rj8B-yOaDmjx"
      },
      "outputs": [],
      "source": [
        "from tqdm import tqdm_notebook"
      ]
    },
    {
      "cell_type": "code",
      "execution_count": 156,
      "metadata": {
        "id": "XRNODESzDmjx"
      },
      "outputs": [],
      "source": [
        "meme_links = ['https://knowyourmeme.com/memes/people/chuando-tan',\n",
        " 'https://knowyourmeme.com/memes/steve--2',\n",
        " 'https://knowyourmeme.com/memes/sakanigadik',\n",
        " 'https://knowyourmeme.com/memes/subcultures/go-go-loser-ranger-sentai-daishikkaku-ranger-reject',\n",
        " 'https://knowyourmeme.com/memes/people/hubslife-day-in-the-life-of-a-middle-class-man',\n",
        " 'https://knowyourmeme.com/memes/foghorn-leghorn-rambling-speech-pattern-parodies',\n",
        " 'https://knowyourmeme.com/memes/name-100-women-challenge',\n",
        " 'https://knowyourmeme.com/memes/last-night-we-let-the-x-talk',\n",
        " 'https://knowyourmeme.com/memes/im-shaking-should-i-wear-this-to-coachella',\n",
        " 'https://knowyourmeme.com/memes/who-the-fuck-did-your-hair',\n",
        " 'https://knowyourmeme.com/memes/sites/rtechnicallythetruth-technically-the-truth',\n",
        " 'https://knowyourmeme.com/memes/events/prime-drink-forever-chemicals-lawsuit',\n",
        " 'https://knowyourmeme.com/memes/thukuna',\n",
        " 'https://knowyourmeme.com/memes/kim-jong-uns-friendly-father-song',\n",
        " 'https://knowyourmeme.com/memes/id-say-the-1830s-but-without-all-the-racists',\n",
        " 'https://knowyourmeme.com/memes/when-i-die-imma-go-to-snow-bunny-heaven']\n"
      ]
    },
    {
      "cell_type": "code",
      "execution_count": 185,
      "metadata": {
        "scrolled": false,
        "colab": {
          "base_uri": "https://localhost:8080/",
          "height": 664,
          "referenced_widgets": [
            "873f154893a349c6b8bf9504bc1c92d2",
            "8cca1e4e5b384cc3abb3afb245346176",
            "392f1ea6fab540c8b645920181359a44",
            "ebe15bf076ab481d90d32f22b465cf14",
            "8a8acee38fcd45ffaec25813eb4665f7",
            "f534ebb550d540d79649edb58de4783a",
            "954ff0d0afbc4c4d8da0f9024fa9976e",
            "8fba72a23b204bc6b246269fd1e7693c",
            "cd56df620f354dada70aad4de2c7a92e",
            "9c3ea7c96ea647e880fdbe8c28220e08",
            "a561a72b02f34e3d90c56b741c921998"
          ]
        },
        "id": "2JMCG_SBDmjx",
        "outputId": "d78a2804-0d39-4951-ed48-942f595d976f"
      },
      "outputs": [
        {
          "output_type": "stream",
          "name": "stderr",
          "text": [
            "<ipython-input-185-f3e28835e4f7>:1: TqdmDeprecationWarning: This function will be removed in tqdm==5.0.0\n",
            "Please use `tqdm.notebook.tqdm` instead of `tqdm.tqdm_notebook`\n",
            "  for meme_link in tqdm_notebook(meme_links):\n"
          ]
        },
        {
          "output_type": "display_data",
          "data": {
            "text/plain": [
              "  0%|          | 0/16 [00:00<?, ?it/s]"
            ],
            "application/vnd.jupyter.widget-view+json": {
              "version_major": 2,
              "version_minor": 0,
              "model_id": "873f154893a349c6b8bf9504bc1c92d2"
            }
          },
          "metadata": {}
        },
        {
          "output_type": "stream",
          "name": "stdout",
          "text": [
            "<Response [200]>\n",
            "{'name': '', 'status': '', 'type': '', 'origin_year': '', 'origin_place': '', 'date_added': '', 'views': None, 'videos': None, 'photos': None, 'comments': None, 'tags': '', 'about': '', 'origin': '', 'other_text': ''}\n",
            "<Response [200]>\n",
            "{'name': '', 'status': '', 'type': '', 'origin_year': '', 'origin_place': '', 'date_added': '', 'views': None, 'videos': None, 'photos': None, 'comments': None, 'tags': '', 'about': '', 'origin': '', 'other_text': ''}\n",
            "<Response [200]>\n",
            "{'name': 'Sakanigadik', 'status': 'Submission', 'type': 'Song', 'origin_year': '2022', 'origin_place': 'YouTube', 'date_added': None, 'views': 195, 'videos': 12, 'photos': 0, 'comments': 2, 'tags': 'sakanigadik, meme, viral video, tiktok, youtube, sak-uh-nigg-adik, slang', 'about': 'Sakanigadik refers to a viral video in which a black man is playing the keyboard and singing the explicit lyric \"Suck a nigga dick,\" which sounds like \"sakanigadik\" as the words are combined. The music was posted on YouTube in April 2022 and later resurfaced on TikTok in April 2024, inspiring remixes and memes featuring the viral audio.', 'origin': 'On April 2nd, 2022,  YouTube[1] user @ErosIX posted the earliest known video of the \"Sakanigadik\" song, which features a black man playing on his keyboard while singing \"suck a nigga dick\" like it\\'s a love ballad. The video (shown below) amassed more than 1 million views and 60,000 likes in two years.', 'other_text': 'On April 2nd, 2022,  YouTube[1] user @ErosIX posted the earliest known video of the \"Sakanigadik\" song, which features a black man playing on his keyboard while singing \"suck a nigga dick\" like it\\'s a love ballad. The video (shown below) amassed more than 1 million views and 60,000 likes in two years.        Spread On October 2nd, 2022, the \"Sukanigadik\" music (shown below, left) was posted on TikTok[2] by user @ketur.explosif, amassing over 2 million plays and 262,000 likes in two years. On April 16th, 2024, TikTok[3] user @thatonerapfan uploaded a Slowed + Reverb version of the song (shown below, right) which received 2.3 million plays and 533,000 likes in a week.   @ketur.explosif #goofy #TeamCentury12 #EndlessJourney ♬ son original – ketur.explosif      @thatonerapfan Sakanigadik💔🥀 #sakanigadik ♬ original sound – RhymeRevisor – Nah    Various Examples    @azukrainex sakanigadik🗣️ @☆ignite frost☆♡ #fyp #meme #sakanigadik ♬ original sound – RhymeRevisor – Nah      @fakka1000 #saka ♬ original sound – RhymeRevisor – Nah     Search Interest  External References  [1] YouTube – sakanigadik [2] TikTok – ketur.explosif [3] TikTok – thatonerapfan'}\n",
            "<Response [200]>\n",
            "{'name': 'Go, Go, Loser Ranger! (Sentai Daishikkaku) / Ranger Reject', 'status': 'Submission', 'type': 'Anime, Manga', 'origin_year': '2021', 'origin_place': 'Negi Haruba', 'date_added': None, 'views': 606, 'videos': 0, 'photos': 14, 'comments': 0, 'tags': 'anime, manga, power rangers, lose ranger, sentai daishikkaku, go go loser ranger, super sentai, fighter d, ranger reject', 'about': 'Go, Go, Loser Ranger!, known in Japanese as Sentai Daishikkaku or Ranger Reject is a Japanese superhero manga and anime series written and illustrated by Negi Haruba. The series takes place in a universe where the Power Rangers, known as the Divine Dragon Rangers in the anime, had defeated all the generals and strong enemies of the evil army and forced the remaining foot soldiers to reenact their defeat to the Dragon Keepers in front of a crowd of spectators every Sunday for 13 years. One of the foot soldiers rebels, and decides he will defeat the Dragon Keepers by infiltrating the organization. Online, the series has been receiving praise for its anti-hero plot and likable main character, known as Fighter D, after the premiere of the anime in early April 2024. The show has also inspired fan art and memes on Twitter (X), Reddit and TikTok.', 'origin': 'Sentai Daishikkaku is written and illustrated by Negi Haruba, who announced the manga series on February 3rd, 2021, via X[1] to be published in Weekly Shōnen Magazine. The post (shown below) amassed over 36,000 likes and 7,000 retweets, which also revealed the design for the Dragon Keepers (Power Rangers) in the series.', 'other_text': \"Sentai Daishikkaku is written and illustrated by Negi Haruba, who announced the manga series on February 3rd, 2021, via X[1] to be published in Weekly Shōnen Magazine. The post (shown below) amassed over 36,000 likes and 7,000 retweets, which also revealed the design for the Dragon Keepers (Power Rangers) in the series.    The series follows the story of the low-tier foot soldier, known as Fighter D, from a defeated evil army who has to reenact their defeat to the Dragon Keepers in front of a crowd of spectators every Sunday for 13 years. Tired of the charade, Fighter D decides he will defeat the Dragon Keepers by infiltrating the organization.[2]       Anime On December 5th, 2022, Anime News Network[3] announced an anime adaptation of Go, Go, Loser Ranger! to be produced by Yostar Pictures and directed by Keiichi Sato, as well as a special project video[4] and visual (shown below, left), which garnered over 224,000 views and 1,200 likes in two years. The series premiered on April 7th, 2024, on TBS and its streaming worldwide on Disney+, and Hulu in the United States.  Online Presence The series grew exponentially more popular after its anime premiered in April 2024, gathering new fans to create fan arts and memes on social media. For example, on April 14th, 2024, X[5] user @gassara_sara posted a photoshopped image of Fighter D on the exploitable I Bring a Sort Of X Vibe to the Y meme (shown below, left), which amassed more than 338 likes and 100 retweets in a week.  On April 19th, 2024, X[6] user @neth_he posted a fan art of Fighter D and Hibiki Sakurama (shown below, right), which received roughly 170 likes and 54 retweets in four days.     Search Interest  External References  [1] X – negi_haruba [2] Wikipedia – Go! Go! Loser Ranger! [3] Anime News Network – Negi Haruba's 'Go, Go, Loser Ranger!' Manga Gets TV Anime [4] YouTube – 「戦隊大失格」SPプロジェクト映像｜TVアニメ化決定！ [5] X – gassara_sara [6] X – neth_he\"}\n",
            "<Response [200]>\n",
            "{'name': 'Hubs.Life / Day In The Life Of A Middle Class Man', 'status': 'Submission', 'type': 'Creator', 'origin_year': '2022', 'origin_place': 'United States', 'date_added': None, 'views': 399, 'videos': 0, 'photos': 15, 'comments': 1, 'tags': 'normal, 9 to 5, lifestyle, upper middle class, tiktok, rage', 'about': 'Hubs.Life / Day In The Life Of A Middle Class Man is an online creator and day in the life vlogger known for his posts on TikTok depicting his daily routine as a 9 to 5 office worker. How content, which claims to be \"middle class\" and \"normal,\" has led to discourse on X and other platforms about whether he is actually a sad figure, trapped in a life of steady routines, or a man who has found a good path and his way in the world.', 'origin': '', 'other_text': 'According to his own account, the man behind Hubs Life works in insurance in Texas as a senior benefits analyst and has a wife and young children. He quit his job to pursue working as a videographer full time from 2020 to 2021, but returned to the insurance business after a brief period of time. Hubs.life has posted on TikTok since early 2022, gaining over 428,000 followers as of April 2024.[1] On Instagram, @hubs.life_ has over 805,000 followers as of April 2024.[2]       Online History Some videos of the daily routine of @hubs.life have crossed over to other platforms and achieved virality. These videos have crossed over to other platforms where they have been widely circulated and commented on, often negatively. For example, one video posted on June 6th, 2023 earned over 1.3 million likes and 11.9 million views of the course of ten months, inciting conversations about whether the repetitive routines of @hubs.life constituted happiness or not.[3] https://www.tiktok.com/embed/v2/7246932644691365166 @mrice97 respited the video to X / Twitter on the same day, earning 94,000 likes (seen below) for calling it deeply sad.[4] Others defended @hubs.life.    Another video posted on April 18th, 2024 earned over 11,000 likes and 168,000 views on TikTok in four days, again depicting his normal routine.[5] https://www.tiktok.com/embed/v2/7359289231753219370 This April 2024 video also inspired discourse. @Denzel22 argued on April 20th, 2024 that the 9 to 5 lifestyle of hubs.zone was a form of \"selling your soul,\" earning 20,000 likes in two days for the post seen below left.[6] @amuse called it \"literally the saddest thing I\\'ve seen in a very long time,\" earning over 72,000 likes in a day for the April 21st, 2024 post seen below right.[7]     Search Interest  External References  [1] TikTok – @hubs.life [2] Instagram – @hubs.life_ [3] TikTok – @hubs.life [4] X – @mrice97 [5] TikTok – @hubs.life [6] X – @DenzelVelasque3 [7] X – @amuse'}\n",
            "<Response [200]>\n",
            "{'name': '', 'status': '', 'type': '', 'origin_year': '', 'origin_place': '', 'date_added': '', 'views': None, 'videos': None, 'photos': None, 'comments': None, 'tags': '', 'about': '', 'origin': '', 'other_text': ''}\n",
            "<Response [200]>\n",
            "{'name': '', 'status': '', 'type': '', 'origin_year': '', 'origin_place': '', 'date_added': '', 'views': None, 'videos': None, 'photos': None, 'comments': None, 'tags': '', 'about': '', 'origin': '', 'other_text': ''}\n",
            "<Response [200]>\n",
            "{'name': 'Last Night We Let The X Talk', 'status': 'Submission', 'type': 'Catchphrase, Snowclone', 'origin_year': '2023', 'origin_place': 'Twitter', 'date_added': None, 'views': 295, 'videos': 0, 'photos': 12, 'comments': 1, 'tags': 'last night, morgan wallen, josh, wine, liquor, last night we let the x talk meme, snowclones, phrasal templates, country music, twitter', 'about': 'Last Night We Let The X Talk, sometimes formulated as Last Night We Let the X Do the Talking, is a phrasal template that was popularized on Twitter / X in 2023 and 2024 and is largely a vehicle to highlight the humorous names of food products. Originally referencing a lyric from the Morgan Wallen song \"Last Night,\" the memes appear as both image captions and standalone catchphrases.', 'origin': 'While the phrase \"let the wine do the talking\" has been a small cliché for years[1] intended to mean opening up about one\\'s feelings under the influence of alcohol, memetic use of the phrase picked up following the release of the Morgan Wallen song \"Last Night,\" which opens with the line \"Last night, we let the liquor talk.\" The song, released in January 2023,[2] topped the U.S. country charts at that time.[3]', 'other_text': 'While the phrase \"let the wine do the talking\" has been a small cliché for years[1] intended to mean opening up about one\\'s feelings under the influence of alcohol, memetic use of the phrase picked up following the release of the Morgan Wallen song \"Last Night,\" which opens with the line \"Last night, we let the liquor talk.\" The song, released in January 2023,[2] topped the U.S. country charts at that time.[3]  One of the first notable humorous posts featuring the lyric was posted on June 3rd, 2023, by Twitter user @pissboymcgee[4], who captioned a video of a rotating, naked man with the lyric, gaining over 600 retweets and 5,900 likes in 10 months (shown below).          Spread Snowclone edits began growing in popularity towards the end of 2023. For example, on October 6th, 2023, Twitter user @cumuncher[5] posted a snowclone replacing \"liquor\" with \"autism,\" gaining over 290 retweets and 2,300 likes in seven months (shown below, left). On October 23rd, user @bobbylikesbeers[6] posted an edit replacing \"liquor\" with \"6mg Zyn,\" gaining over 350 retweets and 2,900 likes in a similar timeframe (shown below, right).     On January 8th, 2024, Twitter user @eggeatingunit[7] posted the snowclone with Josh Wine, gaining over 680 retweets and 13,000 likes in four months in one of the more viral examples of the meme surrounding the product (shown below, left). On March 15th, user @grace_roso[8] posted an example using a wine called The Fat Bastard, gaining over 570 retweets and 8,800 likes in one month (shown below, right).     Various Examples         Search Interest  External References  [1] Wall Street Journal – Let the Wine Do the Talking This Thanksgiving [2] YouTube – Morgan Wallen Last Night [3] Billboard – 2023 Year End Country Charts [4] Twitter – pissboymcgee [5] Twitter – cumuncher [6] Twitter – bobbylikesbeers [7] Twitter – eggeatingunit [8] Twitter – grace_roso'}\n",
            "<Response [200]>\n",
            "{'name': '', 'status': '', 'type': '', 'origin_year': '', 'origin_place': '', 'date_added': '', 'views': None, 'videos': None, 'photos': None, 'comments': None, 'tags': '', 'about': '', 'origin': '', 'other_text': ''}\n",
            "<Response [200]>\n",
            "{'name': 'Who the Fuck Did Your Hair?', 'status': 'Submission', 'type': 'Catchphrase, Viral Video', 'origin_year': '2022', 'origin_place': 'TikTok', 'date_added': None, 'views': 462, 'videos': 20, 'photos': 0, 'comments': 0, 'tags': 'who tf did your hair, who df did your hair, who tf did your hair meme, viral video, original video, gas station, tiktok, tiktok soud, tiktok video', 'about': 'Who the Fuck Did Your Hair? also known as Who TF Did Your Hair? refers to a viral video of a gas station cashier saying \"Who the fuck did your hair?\" at a customer who\\'s surprised by the statement, responding, \"What?\" The cashier then pretends to be talking to someone else on the phone. The original video was posted by TikToker @majorkeylife, known for pranking his customers, in 2022. The video went largely viral on TikTok in early 2024, leading to mass usage as a sound by other creators.', 'origin': 'On April 14th, 2022, TikToker[1] @majorkeylife posted a video of one of his customers. He said, \"Who the fuck did your hair?\" and then pretended that he was on the phone. Shocked and then seemingly offended, the customer said, \"What?\" and then, \"Yeah, you on the phone, right.\" Over two years, the video gained roughly 9 million plays and 1.2 million likes (shown below).', 'other_text': 'On April 14th, 2022, TikToker[1] @majorkeylife posted a video of one of his customers. He said, \"Who the fuck did your hair?\" and then pretended that he was on the phone. Shocked and then seemingly offended, the customer said, \"What?\" and then, \"Yeah, you on the phone, right.\" Over two years, the video gained roughly 9 million plays and 1.2 million likes (shown below).    @majorkeylife I’m on the phone prank ♬ original sound – majorkeylife 🌊🦈          Spread After the video went viral in 2022, others on the app used the video\\'s sound, like TikToker[2] @wtf.jalen on April 15th, 2024, whose video gained roughly 69,600 plays and 11,300 likes in two years (shown below, left). Two years later, on March 10th, 2024, TikToker[3] @sincere_122817 reposted the video with subtitles, receiving over 16.1 million plays and 2.3 million likes in a month (shown below, right).    @wtf.jalen  ♬ original sound – majorkeylife 🌊🦈      @sincere_122817 #hair #bob #viraltiktok #fypシ゚viral #fyppppppppppppppppppppppp #fyp ♬ original sound – sincere_122817    Going into 2024, people used the TikTok sound[4] of @sincere_122817\\'s repost. For instance, an early viral usage was posted by TikToker[5] @younginbby on March 12th, 2024, receiving over 494,700 plays and 87,700 likes in one month (shown below, left). On March 23rd, 2024, TikToker[6] @jaiiyousocrazyyy posted a video that had text reading, \"Growing up with granny had me in school like,\" receiving over 834,900 plays and 199,800 likes in a month (shown below, right).    @younginbby i did it bro 🙄 #thtyounginn #purplewig ♬ original sound – sincere_122817      @jaiiyousocrazyyy And they never was braided in the same direction 😒| #xybcafyp #hemiwayy ♬ original sound – sincere_122817    On April 14th, 2024, X[7] user @luvinqlex reposted the video, writing, \"\\'whattt\\' yo this video gets me everytime😂😂😂😂😂,\" receiving over 6,700 likes in eight days (shown below).  “whattt” yo this video gets me everytime😂😂😂😂😂 pic.twitter.com/ZRMU5c5PNh — A,QEENEICE (@luvinqlex) April 14, 2024   Various Examples \\u2028 https://www.tiktok.com/embed/v2/7357671235024637226 https://www.tiktok.com/embed/v2/7353986206545268011   https://www.tiktok.com/embed/v2/7359167902836133162 https://www.tiktok.com/embed/v2/7357893762158316843  Search Interest Unavailable. External References  [1] TikTok – @majorkeylife [2] TikTok – @wtf.jalen [3] TikTok – @sincere_122817 [4] TikTok – original sound – sincere_122817 [5] TikTok – @younginbby [6] TikTok – @jaiiyousocrazyyy [7] X – @luvinqlex'}\n",
            "<Response [200]>\n",
            "{'name': '', 'status': '', 'type': '', 'origin_year': '', 'origin_place': '', 'date_added': '', 'views': None, 'videos': None, 'photos': None, 'comments': None, 'tags': '', 'about': '', 'origin': '', 'other_text': ''}\n",
            "<Response [200]>\n",
            "{'name': '', 'status': '', 'type': '', 'origin_year': '', 'origin_place': '', 'date_added': '', 'views': None, 'videos': None, 'photos': None, 'comments': None, 'tags': '', 'about': '', 'origin': '', 'other_text': ''}\n",
            "<Response [200]>\n",
            "{'name': '', 'status': '', 'type': '', 'origin_year': '', 'origin_place': '', 'date_added': '', 'views': None, 'videos': None, 'photos': None, 'comments': None, 'tags': '', 'about': '', 'origin': '', 'other_text': ''}\n",
            "<Response [200]>\n",
            "{'name': '', 'status': '', 'type': '', 'origin_year': '', 'origin_place': '', 'date_added': '', 'views': None, 'videos': None, 'photos': None, 'comments': None, 'tags': '', 'about': '', 'origin': '', 'other_text': ''}\n",
            "<Response [200]>\n",
            "{'name': '', 'status': '', 'type': '', 'origin_year': '', 'origin_place': '', 'date_added': '', 'views': None, 'videos': None, 'photos': None, 'comments': None, 'tags': '', 'about': '', 'origin': '', 'other_text': ''}\n",
            "<Response [200]>\n",
            "{'name': '', 'status': '', 'type': '', 'origin_year': '', 'origin_place': '', 'date_added': '', 'views': None, 'videos': None, 'photos': None, 'comments': None, 'tags': '', 'about': '', 'origin': '', 'other_text': ''}\n"
          ]
        }
      ],
      "source": [
        "for meme_link in tqdm_notebook(meme_links):\n",
        "    data_row = getMemeData(meme_link)\n",
        "    final_df = final_df._append(data_row, ignore_index=True)"
      ]
    },
    {
      "cell_type": "code",
      "execution_count": 186,
      "metadata": {
        "colab": {
          "base_uri": "https://localhost:8080/",
          "height": 1000
        },
        "id": "ndHOQd4oDmjx",
        "outputId": "8b70c202-d852-4a21-ad52-cacec9a03424"
      },
      "outputs": [
        {
          "output_type": "execute_result",
          "data": {
            "text/plain": [
              "                                                 name      status  \\\n",
              "0                                                                   \n",
              "1                                                                   \n",
              "2                                                                   \n",
              "3                                                                   \n",
              "4                                                                   \n",
              "5                                                                   \n",
              "6                                                                   \n",
              "7                                                                   \n",
              "8                                                                   \n",
              "9                                                                   \n",
              "10                                                                  \n",
              "11                                                                  \n",
              "12                                                                  \n",
              "13               Kim Jong Un's “Friendly Father” Song  Submission   \n",
              "14      I'd Say the 1830s But Without All the Racists  Submission   \n",
              "15          When I Die, I'mma Go to Snow Bunny Heaven  Submission   \n",
              "16                                                                  \n",
              "17                                                                  \n",
              "18                                        Sakanigadik  Submission   \n",
              "19  Go, Go, Loser Ranger! (Sentai Daishikkaku) / R...  Submission   \n",
              "20  Hubs.Life / Day In The Life Of A Middle Class Man  Submission   \n",
              "21                                                                  \n",
              "22                                                                  \n",
              "23                       Last Night We Let The X Talk  Submission   \n",
              "24                                                                  \n",
              "25                        Who the Fuck Did Your Hair?  Submission   \n",
              "26                                                                  \n",
              "27                                                                  \n",
              "28                                                                  \n",
              "29                                                                  \n",
              "30                                                                  \n",
              "31                                                                  \n",
              "\n",
              "                                          type origin_year   origin_place  \\\n",
              "0                                                                           \n",
              "1                                                                           \n",
              "2                                                                           \n",
              "3                                                                           \n",
              "4                                                                           \n",
              "5                                                                           \n",
              "6                                                                           \n",
              "7                                                                           \n",
              "8                                                                           \n",
              "9                                                                           \n",
              "10                                                                          \n",
              "11                                                                          \n",
              "12                                                                          \n",
              "13                                        Song        2024        YouTube   \n",
              "14  Catchphrase, Parody, Pop Culture Reference        2024    X / Twitter   \n",
              "15                           Catchphrase, Song        2024         TikTok   \n",
              "16                                                                          \n",
              "17                                                                          \n",
              "18                                        Song        2022        YouTube   \n",
              "19                                Anime, Manga        2021    Negi Haruba   \n",
              "20                                     Creator        2022  United States   \n",
              "21                                                                          \n",
              "22                                                                          \n",
              "23                      Catchphrase, Snowclone        2023        Twitter   \n",
              "24                                                                          \n",
              "25                    Catchphrase, Viral Video        2022         TikTok   \n",
              "26                                                                          \n",
              "27                                                                          \n",
              "28                                                                          \n",
              "29                                                                          \n",
              "30                                                                          \n",
              "31                                                                          \n",
              "\n",
              "   date_added views videos photos comments  \\\n",
              "0              None   None   None     None   \n",
              "1              None   None   None     None   \n",
              "2              None   None   None     None   \n",
              "3              None   None   None     None   \n",
              "4              None   None   None     None   \n",
              "5              None   None   None     None   \n",
              "6              None   None   None     None   \n",
              "7              None   None   None     None   \n",
              "8              None   None   None     None   \n",
              "9              None   None   None     None   \n",
              "10             None   None   None     None   \n",
              "11             None   None   None     None   \n",
              "12             None   None   None     None   \n",
              "13       None   551      6      0        0   \n",
              "14       None   794      0     28        2   \n",
              "15       None   432     18      0        0   \n",
              "16             None   None   None     None   \n",
              "17             None   None   None     None   \n",
              "18       None   195     12      0        2   \n",
              "19       None   606      0     14        0   \n",
              "20       None   399      0     15        1   \n",
              "21             None   None   None     None   \n",
              "22             None   None   None     None   \n",
              "23       None   295      0     12        1   \n",
              "24             None   None   None     None   \n",
              "25       None   462     20      0        0   \n",
              "26             None   None   None     None   \n",
              "27             None   None   None     None   \n",
              "28             None   None   None     None   \n",
              "29             None   None   None     None   \n",
              "30             None   None   None     None   \n",
              "31             None   None   None     None   \n",
              "\n",
              "                                                 tags  \\\n",
              "0                                                       \n",
              "1                                                       \n",
              "2                                                       \n",
              "3                                                       \n",
              "4                                                       \n",
              "5                                                       \n",
              "6                                                       \n",
              "7                                                       \n",
              "8                                                       \n",
              "9                                                       \n",
              "10                                                      \n",
              "11                                                      \n",
              "12                                                      \n",
              "13  kim jong un, friendly father, song, meme, tikt...   \n",
              "14  taylor swift, i hate it here, 1830s but withou...   \n",
              "15  snow bunny heaven, snow bunny heaven meme, sno...   \n",
              "16                                                      \n",
              "17                                                      \n",
              "18  sakanigadik, meme, viral video, tiktok, youtub...   \n",
              "19  anime, manga, power rangers, lose ranger, sent...   \n",
              "20  normal, 9 to 5, lifestyle, upper middle class,...   \n",
              "21                                                      \n",
              "22                                                      \n",
              "23  last night, morgan wallen, josh, wine, liquor,...   \n",
              "24                                                      \n",
              "25  who tf did your hair, who df did your hair, wh...   \n",
              "26                                                      \n",
              "27                                                      \n",
              "28                                                      \n",
              "29                                                      \n",
              "30                                                      \n",
              "31                                                      \n",
              "\n",
              "                                                about  \\\n",
              "0                                                       \n",
              "1                                                       \n",
              "2                                                       \n",
              "3                                                       \n",
              "4                                                       \n",
              "5                                                       \n",
              "6                                                       \n",
              "7                                                       \n",
              "8                                                       \n",
              "9                                                       \n",
              "10                                                      \n",
              "11                                                      \n",
              "12                                                      \n",
              "13  Kim Jong Un's “Friendly Father” is a song prai...   \n",
              "14  \"I'd Say the 1830s But Without All the Racists...   \n",
              "15  When I Die, I'mma Go to Snow Bunny Heaven refe...   \n",
              "16                                                      \n",
              "17                                                      \n",
              "18  Sakanigadik refers to a viral video in which a...   \n",
              "19  Go, Go, Loser Ranger!, known in Japanese as Se...   \n",
              "20  Hubs.Life / Day In The Life Of A Middle Class ...   \n",
              "21                                                      \n",
              "22                                                      \n",
              "23  Last Night We Let The X Talk, sometimes formul...   \n",
              "24                                                      \n",
              "25  Who the Fuck Did Your Hair? also known as Who ...   \n",
              "26                                                      \n",
              "27                                                      \n",
              "28                                                      \n",
              "29                                                      \n",
              "30                                                      \n",
              "31                                                      \n",
              "\n",
              "                                               origin  \\\n",
              "0                                                       \n",
              "1                                                       \n",
              "2                                                       \n",
              "3                                                       \n",
              "4                                                       \n",
              "5                                                       \n",
              "6                                                       \n",
              "7                                                       \n",
              "8                                                       \n",
              "9                                                       \n",
              "10                                                      \n",
              "11                                                      \n",
              "12                                                      \n",
              "13  On April 17th, 2024, the Korean Central News A...   \n",
              "14  On April 19th, 2024, the singer-songwriter rel...   \n",
              "15  On March 31st, 2024, rapper Yungcameltoe poste...   \n",
              "16                                                      \n",
              "17                                                      \n",
              "18  On April 2nd, 2022,  YouTube[1] user @ErosIX p...   \n",
              "19  Sentai Daishikkaku is written and illustrated ...   \n",
              "20                                                      \n",
              "21                                                      \n",
              "22                                                      \n",
              "23  While the phrase \"let the wine do the talking\"...   \n",
              "24                                                      \n",
              "25  On April 14th, 2022, TikToker[1] @majorkeylife...   \n",
              "26                                                      \n",
              "27                                                      \n",
              "28                                                      \n",
              "29                                                      \n",
              "30                                                      \n",
              "31                                                      \n",
              "\n",
              "                                           other_text  \n",
              "0                                                      \n",
              "1                                                      \n",
              "2                                                      \n",
              "3                                                      \n",
              "4                                                      \n",
              "5                                                      \n",
              "6                                                      \n",
              "7                                                      \n",
              "8                                                      \n",
              "9                                                      \n",
              "10                                                     \n",
              "11                                                     \n",
              "12                                                     \n",
              "13  On April 17th, 2024, the Korean Central News A...  \n",
              "14  On April 19th, 2024, the singer-songwriter rel...  \n",
              "15  On March 31st, 2024, rapper Yungcameltoe poste...  \n",
              "16                                                     \n",
              "17                                                     \n",
              "18  On April 2nd, 2022,  YouTube[1] user @ErosIX p...  \n",
              "19  Sentai Daishikkaku is written and illustrated ...  \n",
              "20  According to his own account, the man behind H...  \n",
              "21                                                     \n",
              "22                                                     \n",
              "23  While the phrase \"let the wine do the talking\"...  \n",
              "24                                                     \n",
              "25  On April 14th, 2022, TikToker[1] @majorkeylife...  \n",
              "26                                                     \n",
              "27                                                     \n",
              "28                                                     \n",
              "29                                                     \n",
              "30                                                     \n",
              "31                                                     "
            ],
            "text/html": [
              "\n",
              "  <div id=\"df-b314c1a7-8bd9-4bff-9471-78027aeabfed\" class=\"colab-df-container\">\n",
              "    <div>\n",
              "<style scoped>\n",
              "    .dataframe tbody tr th:only-of-type {\n",
              "        vertical-align: middle;\n",
              "    }\n",
              "\n",
              "    .dataframe tbody tr th {\n",
              "        vertical-align: top;\n",
              "    }\n",
              "\n",
              "    .dataframe thead th {\n",
              "        text-align: right;\n",
              "    }\n",
              "</style>\n",
              "<table border=\"1\" class=\"dataframe\">\n",
              "  <thead>\n",
              "    <tr style=\"text-align: right;\">\n",
              "      <th></th>\n",
              "      <th>name</th>\n",
              "      <th>status</th>\n",
              "      <th>type</th>\n",
              "      <th>origin_year</th>\n",
              "      <th>origin_place</th>\n",
              "      <th>date_added</th>\n",
              "      <th>views</th>\n",
              "      <th>videos</th>\n",
              "      <th>photos</th>\n",
              "      <th>comments</th>\n",
              "      <th>tags</th>\n",
              "      <th>about</th>\n",
              "      <th>origin</th>\n",
              "      <th>other_text</th>\n",
              "    </tr>\n",
              "  </thead>\n",
              "  <tbody>\n",
              "    <tr>\n",
              "      <th>0</th>\n",
              "      <td></td>\n",
              "      <td></td>\n",
              "      <td></td>\n",
              "      <td></td>\n",
              "      <td></td>\n",
              "      <td></td>\n",
              "      <td>None</td>\n",
              "      <td>None</td>\n",
              "      <td>None</td>\n",
              "      <td>None</td>\n",
              "      <td></td>\n",
              "      <td></td>\n",
              "      <td></td>\n",
              "      <td></td>\n",
              "    </tr>\n",
              "    <tr>\n",
              "      <th>1</th>\n",
              "      <td></td>\n",
              "      <td></td>\n",
              "      <td></td>\n",
              "      <td></td>\n",
              "      <td></td>\n",
              "      <td></td>\n",
              "      <td>None</td>\n",
              "      <td>None</td>\n",
              "      <td>None</td>\n",
              "      <td>None</td>\n",
              "      <td></td>\n",
              "      <td></td>\n",
              "      <td></td>\n",
              "      <td></td>\n",
              "    </tr>\n",
              "    <tr>\n",
              "      <th>2</th>\n",
              "      <td></td>\n",
              "      <td></td>\n",
              "      <td></td>\n",
              "      <td></td>\n",
              "      <td></td>\n",
              "      <td></td>\n",
              "      <td>None</td>\n",
              "      <td>None</td>\n",
              "      <td>None</td>\n",
              "      <td>None</td>\n",
              "      <td></td>\n",
              "      <td></td>\n",
              "      <td></td>\n",
              "      <td></td>\n",
              "    </tr>\n",
              "    <tr>\n",
              "      <th>3</th>\n",
              "      <td></td>\n",
              "      <td></td>\n",
              "      <td></td>\n",
              "      <td></td>\n",
              "      <td></td>\n",
              "      <td></td>\n",
              "      <td>None</td>\n",
              "      <td>None</td>\n",
              "      <td>None</td>\n",
              "      <td>None</td>\n",
              "      <td></td>\n",
              "      <td></td>\n",
              "      <td></td>\n",
              "      <td></td>\n",
              "    </tr>\n",
              "    <tr>\n",
              "      <th>4</th>\n",
              "      <td></td>\n",
              "      <td></td>\n",
              "      <td></td>\n",
              "      <td></td>\n",
              "      <td></td>\n",
              "      <td></td>\n",
              "      <td>None</td>\n",
              "      <td>None</td>\n",
              "      <td>None</td>\n",
              "      <td>None</td>\n",
              "      <td></td>\n",
              "      <td></td>\n",
              "      <td></td>\n",
              "      <td></td>\n",
              "    </tr>\n",
              "    <tr>\n",
              "      <th>5</th>\n",
              "      <td></td>\n",
              "      <td></td>\n",
              "      <td></td>\n",
              "      <td></td>\n",
              "      <td></td>\n",
              "      <td></td>\n",
              "      <td>None</td>\n",
              "      <td>None</td>\n",
              "      <td>None</td>\n",
              "      <td>None</td>\n",
              "      <td></td>\n",
              "      <td></td>\n",
              "      <td></td>\n",
              "      <td></td>\n",
              "    </tr>\n",
              "    <tr>\n",
              "      <th>6</th>\n",
              "      <td></td>\n",
              "      <td></td>\n",
              "      <td></td>\n",
              "      <td></td>\n",
              "      <td></td>\n",
              "      <td></td>\n",
              "      <td>None</td>\n",
              "      <td>None</td>\n",
              "      <td>None</td>\n",
              "      <td>None</td>\n",
              "      <td></td>\n",
              "      <td></td>\n",
              "      <td></td>\n",
              "      <td></td>\n",
              "    </tr>\n",
              "    <tr>\n",
              "      <th>7</th>\n",
              "      <td></td>\n",
              "      <td></td>\n",
              "      <td></td>\n",
              "      <td></td>\n",
              "      <td></td>\n",
              "      <td></td>\n",
              "      <td>None</td>\n",
              "      <td>None</td>\n",
              "      <td>None</td>\n",
              "      <td>None</td>\n",
              "      <td></td>\n",
              "      <td></td>\n",
              "      <td></td>\n",
              "      <td></td>\n",
              "    </tr>\n",
              "    <tr>\n",
              "      <th>8</th>\n",
              "      <td></td>\n",
              "      <td></td>\n",
              "      <td></td>\n",
              "      <td></td>\n",
              "      <td></td>\n",
              "      <td></td>\n",
              "      <td>None</td>\n",
              "      <td>None</td>\n",
              "      <td>None</td>\n",
              "      <td>None</td>\n",
              "      <td></td>\n",
              "      <td></td>\n",
              "      <td></td>\n",
              "      <td></td>\n",
              "    </tr>\n",
              "    <tr>\n",
              "      <th>9</th>\n",
              "      <td></td>\n",
              "      <td></td>\n",
              "      <td></td>\n",
              "      <td></td>\n",
              "      <td></td>\n",
              "      <td></td>\n",
              "      <td>None</td>\n",
              "      <td>None</td>\n",
              "      <td>None</td>\n",
              "      <td>None</td>\n",
              "      <td></td>\n",
              "      <td></td>\n",
              "      <td></td>\n",
              "      <td></td>\n",
              "    </tr>\n",
              "    <tr>\n",
              "      <th>10</th>\n",
              "      <td></td>\n",
              "      <td></td>\n",
              "      <td></td>\n",
              "      <td></td>\n",
              "      <td></td>\n",
              "      <td></td>\n",
              "      <td>None</td>\n",
              "      <td>None</td>\n",
              "      <td>None</td>\n",
              "      <td>None</td>\n",
              "      <td></td>\n",
              "      <td></td>\n",
              "      <td></td>\n",
              "      <td></td>\n",
              "    </tr>\n",
              "    <tr>\n",
              "      <th>11</th>\n",
              "      <td></td>\n",
              "      <td></td>\n",
              "      <td></td>\n",
              "      <td></td>\n",
              "      <td></td>\n",
              "      <td></td>\n",
              "      <td>None</td>\n",
              "      <td>None</td>\n",
              "      <td>None</td>\n",
              "      <td>None</td>\n",
              "      <td></td>\n",
              "      <td></td>\n",
              "      <td></td>\n",
              "      <td></td>\n",
              "    </tr>\n",
              "    <tr>\n",
              "      <th>12</th>\n",
              "      <td></td>\n",
              "      <td></td>\n",
              "      <td></td>\n",
              "      <td></td>\n",
              "      <td></td>\n",
              "      <td></td>\n",
              "      <td>None</td>\n",
              "      <td>None</td>\n",
              "      <td>None</td>\n",
              "      <td>None</td>\n",
              "      <td></td>\n",
              "      <td></td>\n",
              "      <td></td>\n",
              "      <td></td>\n",
              "    </tr>\n",
              "    <tr>\n",
              "      <th>13</th>\n",
              "      <td>Kim Jong Un's “Friendly Father” Song</td>\n",
              "      <td>Submission</td>\n",
              "      <td>Song</td>\n",
              "      <td>2024</td>\n",
              "      <td>YouTube</td>\n",
              "      <td>None</td>\n",
              "      <td>551</td>\n",
              "      <td>6</td>\n",
              "      <td>0</td>\n",
              "      <td>0</td>\n",
              "      <td>kim jong un, friendly father, song, meme, tikt...</td>\n",
              "      <td>Kim Jong Un's “Friendly Father” is a song prai...</td>\n",
              "      <td>On April 17th, 2024, the Korean Central News A...</td>\n",
              "      <td>On April 17th, 2024, the Korean Central News A...</td>\n",
              "    </tr>\n",
              "    <tr>\n",
              "      <th>14</th>\n",
              "      <td>I'd Say the 1830s But Without All the Racists</td>\n",
              "      <td>Submission</td>\n",
              "      <td>Catchphrase, Parody, Pop Culture Reference</td>\n",
              "      <td>2024</td>\n",
              "      <td>X / Twitter</td>\n",
              "      <td>None</td>\n",
              "      <td>794</td>\n",
              "      <td>0</td>\n",
              "      <td>28</td>\n",
              "      <td>2</td>\n",
              "      <td>taylor swift, i hate it here, 1830s but withou...</td>\n",
              "      <td>\"I'd Say the 1830s But Without All the Racists...</td>\n",
              "      <td>On April 19th, 2024, the singer-songwriter rel...</td>\n",
              "      <td>On April 19th, 2024, the singer-songwriter rel...</td>\n",
              "    </tr>\n",
              "    <tr>\n",
              "      <th>15</th>\n",
              "      <td>When I Die, I'mma Go to Snow Bunny Heaven</td>\n",
              "      <td>Submission</td>\n",
              "      <td>Catchphrase, Song</td>\n",
              "      <td>2024</td>\n",
              "      <td>TikTok</td>\n",
              "      <td>None</td>\n",
              "      <td>432</td>\n",
              "      <td>18</td>\n",
              "      <td>0</td>\n",
              "      <td>0</td>\n",
              "      <td>snow bunny heaven, snow bunny heaven meme, sno...</td>\n",
              "      <td>When I Die, I'mma Go to Snow Bunny Heaven refe...</td>\n",
              "      <td>On March 31st, 2024, rapper Yungcameltoe poste...</td>\n",
              "      <td>On March 31st, 2024, rapper Yungcameltoe poste...</td>\n",
              "    </tr>\n",
              "    <tr>\n",
              "      <th>16</th>\n",
              "      <td></td>\n",
              "      <td></td>\n",
              "      <td></td>\n",
              "      <td></td>\n",
              "      <td></td>\n",
              "      <td></td>\n",
              "      <td>None</td>\n",
              "      <td>None</td>\n",
              "      <td>None</td>\n",
              "      <td>None</td>\n",
              "      <td></td>\n",
              "      <td></td>\n",
              "      <td></td>\n",
              "      <td></td>\n",
              "    </tr>\n",
              "    <tr>\n",
              "      <th>17</th>\n",
              "      <td></td>\n",
              "      <td></td>\n",
              "      <td></td>\n",
              "      <td></td>\n",
              "      <td></td>\n",
              "      <td></td>\n",
              "      <td>None</td>\n",
              "      <td>None</td>\n",
              "      <td>None</td>\n",
              "      <td>None</td>\n",
              "      <td></td>\n",
              "      <td></td>\n",
              "      <td></td>\n",
              "      <td></td>\n",
              "    </tr>\n",
              "    <tr>\n",
              "      <th>18</th>\n",
              "      <td>Sakanigadik</td>\n",
              "      <td>Submission</td>\n",
              "      <td>Song</td>\n",
              "      <td>2022</td>\n",
              "      <td>YouTube</td>\n",
              "      <td>None</td>\n",
              "      <td>195</td>\n",
              "      <td>12</td>\n",
              "      <td>0</td>\n",
              "      <td>2</td>\n",
              "      <td>sakanigadik, meme, viral video, tiktok, youtub...</td>\n",
              "      <td>Sakanigadik refers to a viral video in which a...</td>\n",
              "      <td>On April 2nd, 2022,  YouTube[1] user @ErosIX p...</td>\n",
              "      <td>On April 2nd, 2022,  YouTube[1] user @ErosIX p...</td>\n",
              "    </tr>\n",
              "    <tr>\n",
              "      <th>19</th>\n",
              "      <td>Go, Go, Loser Ranger! (Sentai Daishikkaku) / R...</td>\n",
              "      <td>Submission</td>\n",
              "      <td>Anime, Manga</td>\n",
              "      <td>2021</td>\n",
              "      <td>Negi Haruba</td>\n",
              "      <td>None</td>\n",
              "      <td>606</td>\n",
              "      <td>0</td>\n",
              "      <td>14</td>\n",
              "      <td>0</td>\n",
              "      <td>anime, manga, power rangers, lose ranger, sent...</td>\n",
              "      <td>Go, Go, Loser Ranger!, known in Japanese as Se...</td>\n",
              "      <td>Sentai Daishikkaku is written and illustrated ...</td>\n",
              "      <td>Sentai Daishikkaku is written and illustrated ...</td>\n",
              "    </tr>\n",
              "    <tr>\n",
              "      <th>20</th>\n",
              "      <td>Hubs.Life / Day In The Life Of A Middle Class Man</td>\n",
              "      <td>Submission</td>\n",
              "      <td>Creator</td>\n",
              "      <td>2022</td>\n",
              "      <td>United States</td>\n",
              "      <td>None</td>\n",
              "      <td>399</td>\n",
              "      <td>0</td>\n",
              "      <td>15</td>\n",
              "      <td>1</td>\n",
              "      <td>normal, 9 to 5, lifestyle, upper middle class,...</td>\n",
              "      <td>Hubs.Life / Day In The Life Of A Middle Class ...</td>\n",
              "      <td></td>\n",
              "      <td>According to his own account, the man behind H...</td>\n",
              "    </tr>\n",
              "    <tr>\n",
              "      <th>21</th>\n",
              "      <td></td>\n",
              "      <td></td>\n",
              "      <td></td>\n",
              "      <td></td>\n",
              "      <td></td>\n",
              "      <td></td>\n",
              "      <td>None</td>\n",
              "      <td>None</td>\n",
              "      <td>None</td>\n",
              "      <td>None</td>\n",
              "      <td></td>\n",
              "      <td></td>\n",
              "      <td></td>\n",
              "      <td></td>\n",
              "    </tr>\n",
              "    <tr>\n",
              "      <th>22</th>\n",
              "      <td></td>\n",
              "      <td></td>\n",
              "      <td></td>\n",
              "      <td></td>\n",
              "      <td></td>\n",
              "      <td></td>\n",
              "      <td>None</td>\n",
              "      <td>None</td>\n",
              "      <td>None</td>\n",
              "      <td>None</td>\n",
              "      <td></td>\n",
              "      <td></td>\n",
              "      <td></td>\n",
              "      <td></td>\n",
              "    </tr>\n",
              "    <tr>\n",
              "      <th>23</th>\n",
              "      <td>Last Night We Let The X Talk</td>\n",
              "      <td>Submission</td>\n",
              "      <td>Catchphrase, Snowclone</td>\n",
              "      <td>2023</td>\n",
              "      <td>Twitter</td>\n",
              "      <td>None</td>\n",
              "      <td>295</td>\n",
              "      <td>0</td>\n",
              "      <td>12</td>\n",
              "      <td>1</td>\n",
              "      <td>last night, morgan wallen, josh, wine, liquor,...</td>\n",
              "      <td>Last Night We Let The X Talk, sometimes formul...</td>\n",
              "      <td>While the phrase \"let the wine do the talking\"...</td>\n",
              "      <td>While the phrase \"let the wine do the talking\"...</td>\n",
              "    </tr>\n",
              "    <tr>\n",
              "      <th>24</th>\n",
              "      <td></td>\n",
              "      <td></td>\n",
              "      <td></td>\n",
              "      <td></td>\n",
              "      <td></td>\n",
              "      <td></td>\n",
              "      <td>None</td>\n",
              "      <td>None</td>\n",
              "      <td>None</td>\n",
              "      <td>None</td>\n",
              "      <td></td>\n",
              "      <td></td>\n",
              "      <td></td>\n",
              "      <td></td>\n",
              "    </tr>\n",
              "    <tr>\n",
              "      <th>25</th>\n",
              "      <td>Who the Fuck Did Your Hair?</td>\n",
              "      <td>Submission</td>\n",
              "      <td>Catchphrase, Viral Video</td>\n",
              "      <td>2022</td>\n",
              "      <td>TikTok</td>\n",
              "      <td>None</td>\n",
              "      <td>462</td>\n",
              "      <td>20</td>\n",
              "      <td>0</td>\n",
              "      <td>0</td>\n",
              "      <td>who tf did your hair, who df did your hair, wh...</td>\n",
              "      <td>Who the Fuck Did Your Hair? also known as Who ...</td>\n",
              "      <td>On April 14th, 2022, TikToker[1] @majorkeylife...</td>\n",
              "      <td>On April 14th, 2022, TikToker[1] @majorkeylife...</td>\n",
              "    </tr>\n",
              "    <tr>\n",
              "      <th>26</th>\n",
              "      <td></td>\n",
              "      <td></td>\n",
              "      <td></td>\n",
              "      <td></td>\n",
              "      <td></td>\n",
              "      <td></td>\n",
              "      <td>None</td>\n",
              "      <td>None</td>\n",
              "      <td>None</td>\n",
              "      <td>None</td>\n",
              "      <td></td>\n",
              "      <td></td>\n",
              "      <td></td>\n",
              "      <td></td>\n",
              "    </tr>\n",
              "    <tr>\n",
              "      <th>27</th>\n",
              "      <td></td>\n",
              "      <td></td>\n",
              "      <td></td>\n",
              "      <td></td>\n",
              "      <td></td>\n",
              "      <td></td>\n",
              "      <td>None</td>\n",
              "      <td>None</td>\n",
              "      <td>None</td>\n",
              "      <td>None</td>\n",
              "      <td></td>\n",
              "      <td></td>\n",
              "      <td></td>\n",
              "      <td></td>\n",
              "    </tr>\n",
              "    <tr>\n",
              "      <th>28</th>\n",
              "      <td></td>\n",
              "      <td></td>\n",
              "      <td></td>\n",
              "      <td></td>\n",
              "      <td></td>\n",
              "      <td></td>\n",
              "      <td>None</td>\n",
              "      <td>None</td>\n",
              "      <td>None</td>\n",
              "      <td>None</td>\n",
              "      <td></td>\n",
              "      <td></td>\n",
              "      <td></td>\n",
              "      <td></td>\n",
              "    </tr>\n",
              "    <tr>\n",
              "      <th>29</th>\n",
              "      <td></td>\n",
              "      <td></td>\n",
              "      <td></td>\n",
              "      <td></td>\n",
              "      <td></td>\n",
              "      <td></td>\n",
              "      <td>None</td>\n",
              "      <td>None</td>\n",
              "      <td>None</td>\n",
              "      <td>None</td>\n",
              "      <td></td>\n",
              "      <td></td>\n",
              "      <td></td>\n",
              "      <td></td>\n",
              "    </tr>\n",
              "    <tr>\n",
              "      <th>30</th>\n",
              "      <td></td>\n",
              "      <td></td>\n",
              "      <td></td>\n",
              "      <td></td>\n",
              "      <td></td>\n",
              "      <td></td>\n",
              "      <td>None</td>\n",
              "      <td>None</td>\n",
              "      <td>None</td>\n",
              "      <td>None</td>\n",
              "      <td></td>\n",
              "      <td></td>\n",
              "      <td></td>\n",
              "      <td></td>\n",
              "    </tr>\n",
              "    <tr>\n",
              "      <th>31</th>\n",
              "      <td></td>\n",
              "      <td></td>\n",
              "      <td></td>\n",
              "      <td></td>\n",
              "      <td></td>\n",
              "      <td></td>\n",
              "      <td>None</td>\n",
              "      <td>None</td>\n",
              "      <td>None</td>\n",
              "      <td>None</td>\n",
              "      <td></td>\n",
              "      <td></td>\n",
              "      <td></td>\n",
              "      <td></td>\n",
              "    </tr>\n",
              "  </tbody>\n",
              "</table>\n",
              "</div>\n",
              "    <div class=\"colab-df-buttons\">\n",
              "\n",
              "  <div class=\"colab-df-container\">\n",
              "    <button class=\"colab-df-convert\" onclick=\"convertToInteractive('df-b314c1a7-8bd9-4bff-9471-78027aeabfed')\"\n",
              "            title=\"Convert this dataframe to an interactive table.\"\n",
              "            style=\"display:none;\">\n",
              "\n",
              "  <svg xmlns=\"http://www.w3.org/2000/svg\" height=\"24px\" viewBox=\"0 -960 960 960\">\n",
              "    <path d=\"M120-120v-720h720v720H120Zm60-500h600v-160H180v160Zm220 220h160v-160H400v160Zm0 220h160v-160H400v160ZM180-400h160v-160H180v160Zm440 0h160v-160H620v160ZM180-180h160v-160H180v160Zm440 0h160v-160H620v160Z\"/>\n",
              "  </svg>\n",
              "    </button>\n",
              "\n",
              "  <style>\n",
              "    .colab-df-container {\n",
              "      display:flex;\n",
              "      gap: 12px;\n",
              "    }\n",
              "\n",
              "    .colab-df-convert {\n",
              "      background-color: #E8F0FE;\n",
              "      border: none;\n",
              "      border-radius: 50%;\n",
              "      cursor: pointer;\n",
              "      display: none;\n",
              "      fill: #1967D2;\n",
              "      height: 32px;\n",
              "      padding: 0 0 0 0;\n",
              "      width: 32px;\n",
              "    }\n",
              "\n",
              "    .colab-df-convert:hover {\n",
              "      background-color: #E2EBFA;\n",
              "      box-shadow: 0px 1px 2px rgba(60, 64, 67, 0.3), 0px 1px 3px 1px rgba(60, 64, 67, 0.15);\n",
              "      fill: #174EA6;\n",
              "    }\n",
              "\n",
              "    .colab-df-buttons div {\n",
              "      margin-bottom: 4px;\n",
              "    }\n",
              "\n",
              "    [theme=dark] .colab-df-convert {\n",
              "      background-color: #3B4455;\n",
              "      fill: #D2E3FC;\n",
              "    }\n",
              "\n",
              "    [theme=dark] .colab-df-convert:hover {\n",
              "      background-color: #434B5C;\n",
              "      box-shadow: 0px 1px 3px 1px rgba(0, 0, 0, 0.15);\n",
              "      filter: drop-shadow(0px 1px 2px rgba(0, 0, 0, 0.3));\n",
              "      fill: #FFFFFF;\n",
              "    }\n",
              "  </style>\n",
              "\n",
              "    <script>\n",
              "      const buttonEl =\n",
              "        document.querySelector('#df-b314c1a7-8bd9-4bff-9471-78027aeabfed button.colab-df-convert');\n",
              "      buttonEl.style.display =\n",
              "        google.colab.kernel.accessAllowed ? 'block' : 'none';\n",
              "\n",
              "      async function convertToInteractive(key) {\n",
              "        const element = document.querySelector('#df-b314c1a7-8bd9-4bff-9471-78027aeabfed');\n",
              "        const dataTable =\n",
              "          await google.colab.kernel.invokeFunction('convertToInteractive',\n",
              "                                                    [key], {});\n",
              "        if (!dataTable) return;\n",
              "\n",
              "        const docLinkHtml = 'Like what you see? Visit the ' +\n",
              "          '<a target=\"_blank\" href=https://colab.research.google.com/notebooks/data_table.ipynb>data table notebook</a>'\n",
              "          + ' to learn more about interactive tables.';\n",
              "        element.innerHTML = '';\n",
              "        dataTable['output_type'] = 'display_data';\n",
              "        await google.colab.output.renderOutput(dataTable, element);\n",
              "        const docLink = document.createElement('div');\n",
              "        docLink.innerHTML = docLinkHtml;\n",
              "        element.appendChild(docLink);\n",
              "      }\n",
              "    </script>\n",
              "  </div>\n",
              "\n",
              "\n",
              "<div id=\"df-8ed1a262-da45-4865-8c26-a703d998ba40\">\n",
              "  <button class=\"colab-df-quickchart\" onclick=\"quickchart('df-8ed1a262-da45-4865-8c26-a703d998ba40')\"\n",
              "            title=\"Suggest charts\"\n",
              "            style=\"display:none;\">\n",
              "\n",
              "<svg xmlns=\"http://www.w3.org/2000/svg\" height=\"24px\"viewBox=\"0 0 24 24\"\n",
              "     width=\"24px\">\n",
              "    <g>\n",
              "        <path d=\"M19 3H5c-1.1 0-2 .9-2 2v14c0 1.1.9 2 2 2h14c1.1 0 2-.9 2-2V5c0-1.1-.9-2-2-2zM9 17H7v-7h2v7zm4 0h-2V7h2v10zm4 0h-2v-4h2v4z\"/>\n",
              "    </g>\n",
              "</svg>\n",
              "  </button>\n",
              "\n",
              "<style>\n",
              "  .colab-df-quickchart {\n",
              "      --bg-color: #E8F0FE;\n",
              "      --fill-color: #1967D2;\n",
              "      --hover-bg-color: #E2EBFA;\n",
              "      --hover-fill-color: #174EA6;\n",
              "      --disabled-fill-color: #AAA;\n",
              "      --disabled-bg-color: #DDD;\n",
              "  }\n",
              "\n",
              "  [theme=dark] .colab-df-quickchart {\n",
              "      --bg-color: #3B4455;\n",
              "      --fill-color: #D2E3FC;\n",
              "      --hover-bg-color: #434B5C;\n",
              "      --hover-fill-color: #FFFFFF;\n",
              "      --disabled-bg-color: #3B4455;\n",
              "      --disabled-fill-color: #666;\n",
              "  }\n",
              "\n",
              "  .colab-df-quickchart {\n",
              "    background-color: var(--bg-color);\n",
              "    border: none;\n",
              "    border-radius: 50%;\n",
              "    cursor: pointer;\n",
              "    display: none;\n",
              "    fill: var(--fill-color);\n",
              "    height: 32px;\n",
              "    padding: 0;\n",
              "    width: 32px;\n",
              "  }\n",
              "\n",
              "  .colab-df-quickchart:hover {\n",
              "    background-color: var(--hover-bg-color);\n",
              "    box-shadow: 0 1px 2px rgba(60, 64, 67, 0.3), 0 1px 3px 1px rgba(60, 64, 67, 0.15);\n",
              "    fill: var(--button-hover-fill-color);\n",
              "  }\n",
              "\n",
              "  .colab-df-quickchart-complete:disabled,\n",
              "  .colab-df-quickchart-complete:disabled:hover {\n",
              "    background-color: var(--disabled-bg-color);\n",
              "    fill: var(--disabled-fill-color);\n",
              "    box-shadow: none;\n",
              "  }\n",
              "\n",
              "  .colab-df-spinner {\n",
              "    border: 2px solid var(--fill-color);\n",
              "    border-color: transparent;\n",
              "    border-bottom-color: var(--fill-color);\n",
              "    animation:\n",
              "      spin 1s steps(1) infinite;\n",
              "  }\n",
              "\n",
              "  @keyframes spin {\n",
              "    0% {\n",
              "      border-color: transparent;\n",
              "      border-bottom-color: var(--fill-color);\n",
              "      border-left-color: var(--fill-color);\n",
              "    }\n",
              "    20% {\n",
              "      border-color: transparent;\n",
              "      border-left-color: var(--fill-color);\n",
              "      border-top-color: var(--fill-color);\n",
              "    }\n",
              "    30% {\n",
              "      border-color: transparent;\n",
              "      border-left-color: var(--fill-color);\n",
              "      border-top-color: var(--fill-color);\n",
              "      border-right-color: var(--fill-color);\n",
              "    }\n",
              "    40% {\n",
              "      border-color: transparent;\n",
              "      border-right-color: var(--fill-color);\n",
              "      border-top-color: var(--fill-color);\n",
              "    }\n",
              "    60% {\n",
              "      border-color: transparent;\n",
              "      border-right-color: var(--fill-color);\n",
              "    }\n",
              "    80% {\n",
              "      border-color: transparent;\n",
              "      border-right-color: var(--fill-color);\n",
              "      border-bottom-color: var(--fill-color);\n",
              "    }\n",
              "    90% {\n",
              "      border-color: transparent;\n",
              "      border-bottom-color: var(--fill-color);\n",
              "    }\n",
              "  }\n",
              "</style>\n",
              "\n",
              "  <script>\n",
              "    async function quickchart(key) {\n",
              "      const quickchartButtonEl =\n",
              "        document.querySelector('#' + key + ' button');\n",
              "      quickchartButtonEl.disabled = true;  // To prevent multiple clicks.\n",
              "      quickchartButtonEl.classList.add('colab-df-spinner');\n",
              "      try {\n",
              "        const charts = await google.colab.kernel.invokeFunction(\n",
              "            'suggestCharts', [key], {});\n",
              "      } catch (error) {\n",
              "        console.error('Error during call to suggestCharts:', error);\n",
              "      }\n",
              "      quickchartButtonEl.classList.remove('colab-df-spinner');\n",
              "      quickchartButtonEl.classList.add('colab-df-quickchart-complete');\n",
              "    }\n",
              "    (() => {\n",
              "      let quickchartButtonEl =\n",
              "        document.querySelector('#df-8ed1a262-da45-4865-8c26-a703d998ba40 button');\n",
              "      quickchartButtonEl.style.display =\n",
              "        google.colab.kernel.accessAllowed ? 'block' : 'none';\n",
              "    })();\n",
              "  </script>\n",
              "</div>\n",
              "    </div>\n",
              "  </div>\n"
            ],
            "application/vnd.google.colaboratory.intrinsic+json": {
              "type": "dataframe",
              "variable_name": "final_df",
              "summary": "{\n  \"name\": \"final_df\",\n  \"rows\": 32,\n  \"fields\": [\n    {\n      \"column\": \"name\",\n      \"properties\": {\n        \"dtype\": \"category\",\n        \"num_unique_values\": 9,\n        \"samples\": [\n          \"Last Night We Let The X Talk\",\n          \"Kim Jong Un's \\u201cFriendly Father\\u201d Song\",\n          \"Go, Go, Loser Ranger! (Sentai Daishikkaku) / Ranger Reject\"\n        ],\n        \"semantic_type\": \"\",\n        \"description\": \"\"\n      }\n    },\n    {\n      \"column\": \"status\",\n      \"properties\": {\n        \"dtype\": \"category\",\n        \"num_unique_values\": 2,\n        \"samples\": [\n          \"Submission\",\n          \"\"\n        ],\n        \"semantic_type\": \"\",\n        \"description\": \"\"\n      }\n    },\n    {\n      \"column\": \"type\",\n      \"properties\": {\n        \"dtype\": \"category\",\n        \"num_unique_values\": 8,\n        \"samples\": [\n          \"Song\",\n          \"Creator\"\n        ],\n        \"semantic_type\": \"\",\n        \"description\": \"\"\n      }\n    },\n    {\n      \"column\": \"origin_year\",\n      \"properties\": {\n        \"dtype\": \"object\",\n        \"num_unique_values\": 5,\n        \"samples\": [\n          \"2024\",\n          \"2023\"\n        ],\n        \"semantic_type\": \"\",\n        \"description\": \"\"\n      }\n    },\n    {\n      \"column\": \"origin_place\",\n      \"properties\": {\n        \"dtype\": \"category\",\n        \"num_unique_values\": 7,\n        \"samples\": [\n          \"\",\n          \"YouTube\"\n        ],\n        \"semantic_type\": \"\",\n        \"description\": \"\"\n      }\n    },\n    {\n      \"column\": \"date_added\",\n      \"properties\": {\n        \"dtype\": \"object\",\n        \"num_unique_values\": 1,\n        \"samples\": [\n          \"\"\n        ],\n        \"semantic_type\": \"\",\n        \"description\": \"\"\n      }\n    },\n    {\n      \"column\": \"views\",\n      \"properties\": {\n        \"dtype\": \"date\",\n        \"min\": 195,\n        \"max\": 794,\n        \"num_unique_values\": 8,\n        \"samples\": [\n          794\n        ],\n        \"semantic_type\": \"\",\n        \"description\": \"\"\n      }\n    },\n    {\n      \"column\": \"videos\",\n      \"properties\": {\n        \"dtype\": \"date\",\n        \"min\": 0,\n        \"max\": 20,\n        \"num_unique_values\": 5,\n        \"samples\": [\n          0\n        ],\n        \"semantic_type\": \"\",\n        \"description\": \"\"\n      }\n    },\n    {\n      \"column\": \"photos\",\n      \"properties\": {\n        \"dtype\": \"date\",\n        \"min\": 0,\n        \"max\": 28,\n        \"num_unique_values\": 5,\n        \"samples\": [\n          28\n        ],\n        \"semantic_type\": \"\",\n        \"description\": \"\"\n      }\n    },\n    {\n      \"column\": \"comments\",\n      \"properties\": {\n        \"dtype\": \"date\",\n        \"min\": 0,\n        \"max\": 2,\n        \"num_unique_values\": 3,\n        \"samples\": [\n          0\n        ],\n        \"semantic_type\": \"\",\n        \"description\": \"\"\n      }\n    },\n    {\n      \"column\": \"tags\",\n      \"properties\": {\n        \"dtype\": \"category\",\n        \"num_unique_values\": 9,\n        \"samples\": [\n          \"last night, morgan wallen, josh, wine, liquor, last night we let the x talk meme, snowclones, phrasal templates, country music, twitter\"\n        ],\n        \"semantic_type\": \"\",\n        \"description\": \"\"\n      }\n    },\n    {\n      \"column\": \"about\",\n      \"properties\": {\n        \"dtype\": \"category\",\n        \"num_unique_values\": 9,\n        \"samples\": [\n          \"Last Night We Let The X Talk, sometimes formulated as Last Night We Let the X Do the Talking, is a phrasal template that was popularized on Twitter / X in 2023 and 2024 and is largely a vehicle to highlight the humorous names of food products. Originally referencing a lyric from the Morgan Wallen song \\\"Last Night,\\\" the memes appear as both image captions and standalone catchphrases.\"\n        ],\n        \"semantic_type\": \"\",\n        \"description\": \"\"\n      }\n    },\n    {\n      \"column\": \"origin\",\n      \"properties\": {\n        \"dtype\": \"category\",\n        \"num_unique_values\": 8,\n        \"samples\": [\n          \"On April 17th, 2024, the Korean Central News Agency (KCNA) shared footage[1] of a ceremony celebrating the grand opening of a new 10,000-home development in the capital of North Korea, which featured the song \\\"Friendly Father\\\" (\\uce5c\\uadfc\\ud55c \\uc5b4\\ubc84\\uc774) praising Kim Jong Un as the nation\\u2019s \\\"father,\\u201d working to ensure a \\u201cbrighter future\\u201d for the country\\u2019s people.\"\n        ],\n        \"semantic_type\": \"\",\n        \"description\": \"\"\n      }\n    },\n    {\n      \"column\": \"other_text\",\n      \"properties\": {\n        \"dtype\": \"category\",\n        \"num_unique_values\": 9,\n        \"samples\": [\n          \"While the phrase \\\"let the wine do the talking\\\" has been a small clich\\u00e9 for years[1] intended to mean opening up about one's feelings under the influence of alcohol, memetic use of the phrase picked up following the release of the Morgan Wallen song \\\"Last Night,\\\" which opens with the line \\\"Last night, we let the liquor talk.\\\" The song, released in January 2023,[2] topped the U.S. country charts at that time.[3]  One of the first notable humorous posts featuring the lyric was posted on June 3rd, 2023, by Twitter user @pissboymcgee[4], who captioned a video of a rotating, naked man with the lyric, gaining over 600 retweets and 5,900 likes in 10 months (shown below).          Spread Snowclone edits began growing in popularity towards the end of 2023. For example, on October 6th, 2023, Twitter user @cumuncher[5] posted a snowclone replacing \\\"liquor\\\" with \\\"autism,\\\" gaining over 290 retweets and 2,300 likes in seven months (shown below, left). On October 23rd, user @bobbylikesbeers[6] posted an edit replacing \\\"liquor\\\" with \\\"6mg Zyn,\\\" gaining over 350 retweets and 2,900 likes in a similar timeframe (shown below, right).     On January 8th, 2024, Twitter user @eggeatingunit[7] posted the snowclone with Josh Wine, gaining over 680 retweets and 13,000 likes in four months in one of the more viral examples of the meme surrounding the product (shown below, left). On March 15th, user @grace_roso[8] posted an example using a wine called The Fat Bastard, gaining over 570 retweets and 8,800 likes in one month (shown below, right).     Various Examples         Search Interest  External References  [1] Wall Street Journal \\u2013 Let the Wine Do the Talking This Thanksgiving [2] YouTube \\u2013 Morgan Wallen Last Night [3] Billboard \\u2013 2023 Year End Country Charts [4] Twitter \\u2013 pissboymcgee [5] Twitter \\u2013 cumuncher [6] Twitter \\u2013 bobbylikesbeers [7] Twitter \\u2013 eggeatingunit [8] Twitter \\u2013 grace_roso\"\n        ],\n        \"semantic_type\": \"\",\n        \"description\": \"\"\n      }\n    }\n  ]\n}"
            }
          },
          "metadata": {},
          "execution_count": 186
        }
      ],
      "source": [
        "final_df"
      ]
    },
    {
      "cell_type": "code",
      "execution_count": 187,
      "metadata": {
        "colab": {
          "base_uri": "https://localhost:8080/"
        },
        "id": "rOCr96uyDmjx",
        "outputId": "dde2439d-4ec1-4670-d9e6-5d0ed1bebdc5"
      },
      "outputs": [
        {
          "output_type": "execute_result",
          "data": {
            "text/plain": [
              "(32, 14)"
            ]
          },
          "metadata": {},
          "execution_count": 187
        }
      ],
      "source": [
        "final_df.shape"
      ]
    },
    {
      "cell_type": "markdown",
      "metadata": {
        "id": "xfc9GGQYDmjx"
      },
      "source": [
        "# 4. Итоговый цикл\n",
        "\n",
        "Осталось написать итоговый цикл. На всякий случай обернём его в `try-except`."
      ]
    },
    {
      "cell_type": "code",
      "execution_count": null,
      "metadata": {
        "id": "4LnA6Su7Dmjx"
      },
      "outputs": [],
      "source": [
        "from tqdm import tqdm_notebook\n",
        "\n",
        "final_df = pd.DataFrame(columns=['name', 'status', 'type', 'origin_year', 'origin_place',\n",
        "                                 'date_added', 'views', 'videos', 'photos', 'comments',\n",
        "                                 'tags', 'about', 'origin', 'other_text'])\n",
        "\n",
        "for page_number in tqdm_notebook(range(1075), desc='Pages'):\n",
        "\n",
        "    # собрали ссылки с текущей страницы\n",
        "    meme_links = getPageLinks(page_number)\n",
        "\n",
        "    for meme_link in tqdm_notebook(meme_links, desc='Memes', leave=False):\n",
        "\n",
        "        # иногда с первого раза страничка не прогружается\n",
        "        for i in range(5):\n",
        "            try:\n",
        "                # пытаемся собрать данные\n",
        "                data_row = getMemeData(meme_link)\n",
        "                final_df = final_df.append(data_row, ignore_index=True)\n",
        "                # если всё получилось - выходим из внутреннего цикла\n",
        "                break\n",
        "            except:\n",
        "                # Иначе, пробуем еще несколько раз, пока не закончатся попытки\n",
        "                print('AHTUNG! parsing once again:', meme_link)\n",
        "                continue"
      ]
    },
    {
      "cell_type": "markdown",
      "metadata": {
        "id": "027JU2xFDmjx"
      },
      "source": [
        "# 5. Что делать, если сервер разозлился?\n",
        "\n",
        "\n",
        "* Вы решили собрать себе немного данных\n",
        "* Сервер не в восторге от ковровой бомбардировки автоматическими запросами\n",
        "* Error 403, 404, 504, $\\ldots$\n",
        "* Капча, требования зарегистрироваться\n",
        "* Заботливые сообщения, что с вашего устройства обнаружен подозрительный трафик\n",
        "\n",
        "<center>\n",
        "<img src=\"pictures/doge.jpg\" width=\"450\">"
      ]
    },
    {
      "cell_type": "markdown",
      "metadata": {
        "id": "GCu0YjKCDmjx"
      },
      "source": [
        "### а) быть терпеливым\n",
        "\n",
        "* Слишком частые запросы раздражают сервер\n",
        "* Ставьте между ними временные задержки\n",
        "* Сервер любит временные задержки, так как боится сломаться от перегрузок"
      ]
    },
    {
      "cell_type": "code",
      "execution_count": null,
      "metadata": {
        "id": "VXgoDbEzDmjx"
      },
      "outputs": [],
      "source": [
        "import time\n",
        "time.sleep(3) # и пусть весь мир подождёт 3 секунды"
      ]
    },
    {
      "cell_type": "markdown",
      "metadata": {
        "id": "4w4Sotk5Dmjx"
      },
      "source": [
        "### б) общаться через посредников\n",
        "\n",
        "<center>\n",
        "<img src=\"https://raw.githubusercontent.com/hse-econ-data-science/eds_spring_2020/master/sem05_parsing/image/proxy.jpeg\" width=\"400\">"
      ]
    },
    {
      "cell_type": "raw",
      "metadata": {
        "id": "Q-RwJIZKDmjx"
      },
      "source": [
        "proxies = {\n",
        "    'http': '182.53.206.47:47592',\n",
        "    'https': '182.53.206.47:47592'\n",
        "}\n",
        "\n",
        "r = requests.get('https://httpbin.org/ip', proxies=proxies)\n",
        "\n",
        "print(r.json())"
      ]
    },
    {
      "cell_type": "markdown",
      "metadata": {
        "id": "joW8YIsuDmjx"
      },
      "source": [
        "Запрос работал немного подольше, ip адрес сменился. Большая часть прокси-серверов, которые вы найдёте работают плохо. Иногда запрос идёт очень долго и выгоднее сбросить его. Это можно настроить опцией `timeout`.  Например, так если сервер не будет отвечать секунду, код перестанет работать."
      ]
    },
    {
      "cell_type": "code",
      "execution_count": null,
      "metadata": {
        "id": "gZG83LifDmjy"
      },
      "outputs": [],
      "source": [
        "import requests\n",
        "requests.get('http://www.google.com', timeout=1)"
      ]
    },
    {
      "cell_type": "markdown",
      "metadata": {
        "id": "Ocf-09T2Dmjy"
      },
      "source": [
        "## в) уходить глубже\n",
        "\n",
        "<center>\n",
        "<img src=\"https://raw.githubusercontent.com/hse-econ-data-science/eds_spring_2020/master/sem05_parsing/image/tor.jpg\" width=\"600\">\n",
        "\n",
        "Можно попытаться обходить злые сервера через тор. Есть несколько способов, но мы про это говорить не будем. Лучше подробно почитать [в нашей статье на Хабре.](https://habr.com/ru/company/ods/blog/346632/)"
      ]
    },
    {
      "cell_type": "markdown",
      "metadata": {
        "id": "niobrXHEDmjy"
      },
      "source": [
        "## Совместить всё?\n",
        "\n",
        "1. Начните с простых приемов, например с `time.sleep`\n",
        "2. Пробуйте новые приёмы постепенно\n",
        "3. Каждый новый приём замедляет скорость работы\n",
        "4. [Разные продвинутые способы работы с библиотекой requests](http://docs.python-requests.org/en/v0.10.6/user/advanced/)"
      ]
    },
    {
      "cell_type": "markdown",
      "metadata": {
        "id": "73zcAmLiDmjy"
      },
      "source": [
        "> Напоследок, хотелось бы сказать пару слов о парсинге вообще и при помощи Тора в частности. Собирать себе данные самостоятельно - это стильно, модно и в принципе интересно, можно получить наборы, которых еще никто никогда не обрабатывал, сделать что-то новое, посмотреть, наконец, на все мемы мира сразу. Однако не стоит забывать, что ограничения, введенные сервером, в том числе баны, появились не просто так, а в целях защиты сайта от DDoS-атак. К чужому труду стоит относится с уважением, и даже если у сервера никакой защиты нет, - это еще не повод неограниченно забрасывать его своими запросами, особенно если это может привести к его отключению - [уголовное наказание](http://sd-company.su/article/security/ddosataka-ugolovnaya-otvetstvennost) никто не отменял. Успешных и безопасных вам исследований!"
      ]
    },
    {
      "cell_type": "markdown",
      "metadata": {
        "id": "kkvz-CYXDmjy"
      },
      "source": [
        "# Материалы\n",
        "\n",
        "* [Парсим мемы в python](https://habr.com/ru/company/ods/blog/346632/) - подробная статья на Хабре\n",
        "* [Продвинутое использование requests](https://2.python-requests.org/en/master/user/advanced/)\n",
        "* [Репозиторий](https://github.com/DmitrySerg/memology) с исследованием мемов"
      ]
    },
    {
      "cell_type": "markdown",
      "metadata": {
        "id": "Y3uBXg-rDmjy"
      },
      "source": [
        "<img src=\"pictures/take_all.png\" height=\"200\" width=\"900\">  "
      ]
    },
    {
      "cell_type": "markdown",
      "metadata": {
        "id": "etJB5Nq8Dmjy"
      },
      "source": [
        "   "
      ]
    }
  ],
  "metadata": {
    "kernelspec": {
      "display_name": "Python 3",
      "language": "python",
      "name": "python3"
    },
    "language_info": {
      "codemirror_mode": {
        "name": "ipython",
        "version": 3
      },
      "file_extension": ".py",
      "mimetype": "text/x-python",
      "name": "python",
      "nbconvert_exporter": "python",
      "pygments_lexer": "ipython3",
      "version": "3.11.5"
    },
    "varInspector": {
      "cols": {
        "lenName": 16,
        "lenType": 16,
        "lenVar": 40
      },
      "kernels_config": {
        "python": {
          "delete_cmd_postfix": "",
          "delete_cmd_prefix": "del ",
          "library": "var_list.py",
          "varRefreshCmd": "print(var_dic_list())"
        },
        "r": {
          "delete_cmd_postfix": ") ",
          "delete_cmd_prefix": "rm(",
          "library": "var_list.r",
          "varRefreshCmd": "cat(var_dic_list()) "
        }
      },
      "types_to_exclude": [
        "module",
        "function",
        "builtin_function_or_method",
        "instance",
        "_Feature"
      ],
      "window_display": false
    },
    "colab": {
      "provenance": []
    },
    "widgets": {
      "application/vnd.jupyter.widget-state+json": {
        "873f154893a349c6b8bf9504bc1c92d2": {
          "model_module": "@jupyter-widgets/controls",
          "model_name": "HBoxModel",
          "model_module_version": "1.5.0",
          "state": {
            "_dom_classes": [],
            "_model_module": "@jupyter-widgets/controls",
            "_model_module_version": "1.5.0",
            "_model_name": "HBoxModel",
            "_view_count": null,
            "_view_module": "@jupyter-widgets/controls",
            "_view_module_version": "1.5.0",
            "_view_name": "HBoxView",
            "box_style": "",
            "children": [
              "IPY_MODEL_8cca1e4e5b384cc3abb3afb245346176",
              "IPY_MODEL_392f1ea6fab540c8b645920181359a44",
              "IPY_MODEL_ebe15bf076ab481d90d32f22b465cf14"
            ],
            "layout": "IPY_MODEL_8a8acee38fcd45ffaec25813eb4665f7"
          }
        },
        "8cca1e4e5b384cc3abb3afb245346176": {
          "model_module": "@jupyter-widgets/controls",
          "model_name": "HTMLModel",
          "model_module_version": "1.5.0",
          "state": {
            "_dom_classes": [],
            "_model_module": "@jupyter-widgets/controls",
            "_model_module_version": "1.5.0",
            "_model_name": "HTMLModel",
            "_view_count": null,
            "_view_module": "@jupyter-widgets/controls",
            "_view_module_version": "1.5.0",
            "_view_name": "HTMLView",
            "description": "",
            "description_tooltip": null,
            "layout": "IPY_MODEL_f534ebb550d540d79649edb58de4783a",
            "placeholder": "​",
            "style": "IPY_MODEL_954ff0d0afbc4c4d8da0f9024fa9976e",
            "value": "100%"
          }
        },
        "392f1ea6fab540c8b645920181359a44": {
          "model_module": "@jupyter-widgets/controls",
          "model_name": "FloatProgressModel",
          "model_module_version": "1.5.0",
          "state": {
            "_dom_classes": [],
            "_model_module": "@jupyter-widgets/controls",
            "_model_module_version": "1.5.0",
            "_model_name": "FloatProgressModel",
            "_view_count": null,
            "_view_module": "@jupyter-widgets/controls",
            "_view_module_version": "1.5.0",
            "_view_name": "ProgressView",
            "bar_style": "success",
            "description": "",
            "description_tooltip": null,
            "layout": "IPY_MODEL_8fba72a23b204bc6b246269fd1e7693c",
            "max": 16,
            "min": 0,
            "orientation": "horizontal",
            "style": "IPY_MODEL_cd56df620f354dada70aad4de2c7a92e",
            "value": 16
          }
        },
        "ebe15bf076ab481d90d32f22b465cf14": {
          "model_module": "@jupyter-widgets/controls",
          "model_name": "HTMLModel",
          "model_module_version": "1.5.0",
          "state": {
            "_dom_classes": [],
            "_model_module": "@jupyter-widgets/controls",
            "_model_module_version": "1.5.0",
            "_model_name": "HTMLModel",
            "_view_count": null,
            "_view_module": "@jupyter-widgets/controls",
            "_view_module_version": "1.5.0",
            "_view_name": "HTMLView",
            "description": "",
            "description_tooltip": null,
            "layout": "IPY_MODEL_9c3ea7c96ea647e880fdbe8c28220e08",
            "placeholder": "​",
            "style": "IPY_MODEL_a561a72b02f34e3d90c56b741c921998",
            "value": " 16/16 [00:08&lt;00:00,  1.60it/s]"
          }
        },
        "8a8acee38fcd45ffaec25813eb4665f7": {
          "model_module": "@jupyter-widgets/base",
          "model_name": "LayoutModel",
          "model_module_version": "1.2.0",
          "state": {
            "_model_module": "@jupyter-widgets/base",
            "_model_module_version": "1.2.0",
            "_model_name": "LayoutModel",
            "_view_count": null,
            "_view_module": "@jupyter-widgets/base",
            "_view_module_version": "1.2.0",
            "_view_name": "LayoutView",
            "align_content": null,
            "align_items": null,
            "align_self": null,
            "border": null,
            "bottom": null,
            "display": null,
            "flex": null,
            "flex_flow": null,
            "grid_area": null,
            "grid_auto_columns": null,
            "grid_auto_flow": null,
            "grid_auto_rows": null,
            "grid_column": null,
            "grid_gap": null,
            "grid_row": null,
            "grid_template_areas": null,
            "grid_template_columns": null,
            "grid_template_rows": null,
            "height": null,
            "justify_content": null,
            "justify_items": null,
            "left": null,
            "margin": null,
            "max_height": null,
            "max_width": null,
            "min_height": null,
            "min_width": null,
            "object_fit": null,
            "object_position": null,
            "order": null,
            "overflow": null,
            "overflow_x": null,
            "overflow_y": null,
            "padding": null,
            "right": null,
            "top": null,
            "visibility": null,
            "width": null
          }
        },
        "f534ebb550d540d79649edb58de4783a": {
          "model_module": "@jupyter-widgets/base",
          "model_name": "LayoutModel",
          "model_module_version": "1.2.0",
          "state": {
            "_model_module": "@jupyter-widgets/base",
            "_model_module_version": "1.2.0",
            "_model_name": "LayoutModel",
            "_view_count": null,
            "_view_module": "@jupyter-widgets/base",
            "_view_module_version": "1.2.0",
            "_view_name": "LayoutView",
            "align_content": null,
            "align_items": null,
            "align_self": null,
            "border": null,
            "bottom": null,
            "display": null,
            "flex": null,
            "flex_flow": null,
            "grid_area": null,
            "grid_auto_columns": null,
            "grid_auto_flow": null,
            "grid_auto_rows": null,
            "grid_column": null,
            "grid_gap": null,
            "grid_row": null,
            "grid_template_areas": null,
            "grid_template_columns": null,
            "grid_template_rows": null,
            "height": null,
            "justify_content": null,
            "justify_items": null,
            "left": null,
            "margin": null,
            "max_height": null,
            "max_width": null,
            "min_height": null,
            "min_width": null,
            "object_fit": null,
            "object_position": null,
            "order": null,
            "overflow": null,
            "overflow_x": null,
            "overflow_y": null,
            "padding": null,
            "right": null,
            "top": null,
            "visibility": null,
            "width": null
          }
        },
        "954ff0d0afbc4c4d8da0f9024fa9976e": {
          "model_module": "@jupyter-widgets/controls",
          "model_name": "DescriptionStyleModel",
          "model_module_version": "1.5.0",
          "state": {
            "_model_module": "@jupyter-widgets/controls",
            "_model_module_version": "1.5.0",
            "_model_name": "DescriptionStyleModel",
            "_view_count": null,
            "_view_module": "@jupyter-widgets/base",
            "_view_module_version": "1.2.0",
            "_view_name": "StyleView",
            "description_width": ""
          }
        },
        "8fba72a23b204bc6b246269fd1e7693c": {
          "model_module": "@jupyter-widgets/base",
          "model_name": "LayoutModel",
          "model_module_version": "1.2.0",
          "state": {
            "_model_module": "@jupyter-widgets/base",
            "_model_module_version": "1.2.0",
            "_model_name": "LayoutModel",
            "_view_count": null,
            "_view_module": "@jupyter-widgets/base",
            "_view_module_version": "1.2.0",
            "_view_name": "LayoutView",
            "align_content": null,
            "align_items": null,
            "align_self": null,
            "border": null,
            "bottom": null,
            "display": null,
            "flex": null,
            "flex_flow": null,
            "grid_area": null,
            "grid_auto_columns": null,
            "grid_auto_flow": null,
            "grid_auto_rows": null,
            "grid_column": null,
            "grid_gap": null,
            "grid_row": null,
            "grid_template_areas": null,
            "grid_template_columns": null,
            "grid_template_rows": null,
            "height": null,
            "justify_content": null,
            "justify_items": null,
            "left": null,
            "margin": null,
            "max_height": null,
            "max_width": null,
            "min_height": null,
            "min_width": null,
            "object_fit": null,
            "object_position": null,
            "order": null,
            "overflow": null,
            "overflow_x": null,
            "overflow_y": null,
            "padding": null,
            "right": null,
            "top": null,
            "visibility": null,
            "width": null
          }
        },
        "cd56df620f354dada70aad4de2c7a92e": {
          "model_module": "@jupyter-widgets/controls",
          "model_name": "ProgressStyleModel",
          "model_module_version": "1.5.0",
          "state": {
            "_model_module": "@jupyter-widgets/controls",
            "_model_module_version": "1.5.0",
            "_model_name": "ProgressStyleModel",
            "_view_count": null,
            "_view_module": "@jupyter-widgets/base",
            "_view_module_version": "1.2.0",
            "_view_name": "StyleView",
            "bar_color": null,
            "description_width": ""
          }
        },
        "9c3ea7c96ea647e880fdbe8c28220e08": {
          "model_module": "@jupyter-widgets/base",
          "model_name": "LayoutModel",
          "model_module_version": "1.2.0",
          "state": {
            "_model_module": "@jupyter-widgets/base",
            "_model_module_version": "1.2.0",
            "_model_name": "LayoutModel",
            "_view_count": null,
            "_view_module": "@jupyter-widgets/base",
            "_view_module_version": "1.2.0",
            "_view_name": "LayoutView",
            "align_content": null,
            "align_items": null,
            "align_self": null,
            "border": null,
            "bottom": null,
            "display": null,
            "flex": null,
            "flex_flow": null,
            "grid_area": null,
            "grid_auto_columns": null,
            "grid_auto_flow": null,
            "grid_auto_rows": null,
            "grid_column": null,
            "grid_gap": null,
            "grid_row": null,
            "grid_template_areas": null,
            "grid_template_columns": null,
            "grid_template_rows": null,
            "height": null,
            "justify_content": null,
            "justify_items": null,
            "left": null,
            "margin": null,
            "max_height": null,
            "max_width": null,
            "min_height": null,
            "min_width": null,
            "object_fit": null,
            "object_position": null,
            "order": null,
            "overflow": null,
            "overflow_x": null,
            "overflow_y": null,
            "padding": null,
            "right": null,
            "top": null,
            "visibility": null,
            "width": null
          }
        },
        "a561a72b02f34e3d90c56b741c921998": {
          "model_module": "@jupyter-widgets/controls",
          "model_name": "DescriptionStyleModel",
          "model_module_version": "1.5.0",
          "state": {
            "_model_module": "@jupyter-widgets/controls",
            "_model_module_version": "1.5.0",
            "_model_name": "DescriptionStyleModel",
            "_view_count": null,
            "_view_module": "@jupyter-widgets/base",
            "_view_module_version": "1.2.0",
            "_view_name": "StyleView",
            "description_width": ""
          }
        }
      }
    }
  },
  "nbformat": 4,
  "nbformat_minor": 0
}